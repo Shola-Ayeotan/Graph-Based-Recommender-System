{
 "cells": [
  {
   "cell_type": "code",
   "execution_count": 2,
   "id": "f34bdfd7",
   "metadata": {},
   "outputs": [
    {
     "name": "stdout",
     "output_type": "stream",
     "text": [
      "Collecting pecanpy\n",
      "  Downloading pecanpy-2.0.9-py3-none-any.whl.metadata (11 kB)\n",
      "Collecting gensim>=4.1.0 (from pecanpy)\n",
      "  Downloading gensim-4.3.2-cp311-cp311-win_amd64.whl.metadata (8.5 kB)\n",
      "Requirement already satisfied: numpy>=1.20.0 in c:\\users\\hp\\appdata\\local\\programs\\python\\python311\\lib\\site-packages (from pecanpy) (1.26.4)\n",
      "Requirement already satisfied: numba>=0.46.0 in c:\\users\\hp\\appdata\\local\\programs\\python\\python311\\lib\\site-packages (from pecanpy) (0.59.0)\n",
      "Collecting numba-progress>=0.0.2 (from pecanpy)\n",
      "  Downloading numba_progress-1.1.0-py3-none-any.whl.metadata (2.5 kB)\n",
      "Collecting nptyping>=2.0.0 (from pecanpy)\n",
      "  Downloading nptyping-2.5.0-py3-none-any.whl.metadata (7.6 kB)\n",
      "Requirement already satisfied: typing-extensions>=4.0.1 in c:\\users\\hp\\appdata\\local\\programs\\python\\python311\\lib\\site-packages (from pecanpy) (4.9.0)\n",
      "Requirement already satisfied: scipy>=1.7.0 in c:\\users\\hp\\appdata\\local\\programs\\python\\python311\\lib\\site-packages (from gensim>=4.1.0->pecanpy) (1.12.0)\n",
      "Collecting smart-open>=1.8.1 (from gensim>=4.1.0->pecanpy)\n",
      "  Downloading smart_open-7.0.3-py3-none-any.whl.metadata (23 kB)\n",
      "Requirement already satisfied: llvmlite<0.43,>=0.42.0dev0 in c:\\users\\hp\\appdata\\local\\programs\\python\\python311\\lib\\site-packages (from numba>=0.46.0->pecanpy) (0.42.0)\n",
      "Requirement already satisfied: tqdm in c:\\users\\hp\\appdata\\local\\programs\\python\\python311\\lib\\site-packages (from numba-progress>=0.0.2->pecanpy) (4.66.2)\n",
      "Requirement already satisfied: wrapt in c:\\users\\hp\\appdata\\local\\programs\\python\\python311\\lib\\site-packages (from smart-open>=1.8.1->gensim>=4.1.0->pecanpy) (1.14.1)\n",
      "Requirement already satisfied: colorama in c:\\users\\hp\\appdata\\roaming\\python\\python311\\site-packages (from tqdm->numba-progress>=0.0.2->pecanpy) (0.4.6)\n",
      "Downloading pecanpy-2.0.9-py3-none-any.whl (27 kB)\n",
      "Downloading gensim-4.3.2-cp311-cp311-win_amd64.whl (24.0 MB)\n",
      "   ---------------------------------------- 0.0/24.0 MB ? eta -:--:--\n",
      "   ---------------------------------------- 0.2/24.0 MB 5.9 MB/s eta 0:00:05\n",
      "    --------------------------------------- 0.4/24.0 MB 6.8 MB/s eta 0:00:04\n",
      "    --------------------------------------- 0.5/24.0 MB 3.1 MB/s eta 0:00:08\n",
      "   - -------------------------------------- 0.9/24.0 MB 5.0 MB/s eta 0:00:05\n",
      "   - -------------------------------------- 1.1/24.0 MB 5.0 MB/s eta 0:00:05\n",
      "   -- ------------------------------------- 1.3/24.0 MB 4.3 MB/s eta 0:00:06\n",
      "   -- ------------------------------------- 1.6/24.0 MB 4.7 MB/s eta 0:00:05\n",
      "   --- ------------------------------------ 1.9/24.0 MB 4.8 MB/s eta 0:00:05\n",
      "   --- ------------------------------------ 2.3/24.0 MB 5.2 MB/s eta 0:00:05\n",
      "   ---- ----------------------------------- 2.7/24.0 MB 5.4 MB/s eta 0:00:04\n",
      "   ----- ---------------------------------- 3.1/24.0 MB 5.7 MB/s eta 0:00:04\n",
      "   ----- ---------------------------------- 3.5/24.0 MB 5.8 MB/s eta 0:00:04\n",
      "   ------ --------------------------------- 3.9/24.0 MB 6.1 MB/s eta 0:00:04\n",
      "   ------- -------------------------------- 4.3/24.0 MB 6.2 MB/s eta 0:00:04\n",
      "   ------- -------------------------------- 4.7/24.0 MB 6.4 MB/s eta 0:00:03\n",
      "   -------- ------------------------------- 5.1/24.0 MB 6.6 MB/s eta 0:00:03\n",
      "   -------- ------------------------------- 5.2/24.0 MB 6.6 MB/s eta 0:00:03\n",
      "   -------- ------------------------------- 5.2/24.0 MB 6.6 MB/s eta 0:00:03\n",
      "   -------- ------------------------------- 5.2/24.0 MB 6.6 MB/s eta 0:00:03\n",
      "   -------- ------------------------------- 5.2/24.0 MB 6.6 MB/s eta 0:00:03\n",
      "   --------- ------------------------------ 5.6/24.0 MB 5.5 MB/s eta 0:00:04\n",
      "   ---------- ----------------------------- 6.1/24.0 MB 5.7 MB/s eta 0:00:04\n",
      "   ---------- ----------------------------- 6.5/24.0 MB 5.8 MB/s eta 0:00:04\n",
      "   ----------- ---------------------------- 7.0/24.0 MB 6.0 MB/s eta 0:00:03\n",
      "   ------------ --------------------------- 7.3/24.0 MB 6.1 MB/s eta 0:00:03\n",
      "   ------------ --------------------------- 7.5/24.0 MB 6.0 MB/s eta 0:00:03\n",
      "   ------------- -------------------------- 7.8/24.0 MB 6.0 MB/s eta 0:00:03\n",
      "   ------------- -------------------------- 8.1/24.0 MB 6.0 MB/s eta 0:00:03\n",
      "   ------------- -------------------------- 8.4/24.0 MB 6.0 MB/s eta 0:00:03\n",
      "   -------------- ------------------------- 8.7/24.0 MB 6.1 MB/s eta 0:00:03\n",
      "   --------------- ------------------------ 9.1/24.0 MB 6.1 MB/s eta 0:00:03\n",
      "   --------------- ------------------------ 9.5/24.0 MB 6.2 MB/s eta 0:00:03\n",
      "   ---------------- ----------------------- 9.9/24.0 MB 6.2 MB/s eta 0:00:03\n",
      "   ----------------- ---------------------- 10.3/24.0 MB 6.3 MB/s eta 0:00:03\n",
      "   ----------------- ---------------------- 10.6/24.0 MB 6.3 MB/s eta 0:00:03\n",
      "   ------------------ --------------------- 11.0/24.0 MB 6.5 MB/s eta 0:00:02\n",
      "   ------------------- -------------------- 11.4/24.0 MB 6.7 MB/s eta 0:00:02\n",
      "   ------------------- -------------------- 11.7/24.0 MB 6.8 MB/s eta 0:00:02\n",
      "   -------------------- ------------------- 12.1/24.0 MB 6.9 MB/s eta 0:00:02\n",
      "   -------------------- ------------------- 12.5/24.0 MB 7.0 MB/s eta 0:00:02\n",
      "   -------------------- ------------------- 12.6/24.0 MB 7.0 MB/s eta 0:00:02\n",
      "   -------------------- ------------------- 12.6/24.0 MB 7.0 MB/s eta 0:00:02\n",
      "   -------------------- ------------------- 12.6/24.0 MB 7.0 MB/s eta 0:00:02\n",
      "   -------------------- ------------------- 12.6/24.0 MB 7.0 MB/s eta 0:00:02\n",
      "   -------------------- ------------------- 12.6/24.0 MB 7.0 MB/s eta 0:00:02\n",
      "   --------------------- ------------------ 12.9/24.0 MB 6.0 MB/s eta 0:00:02\n",
      "   ---------------------- ----------------- 13.4/24.0 MB 6.0 MB/s eta 0:00:02\n",
      "   ---------------------- ----------------- 13.8/24.0 MB 6.0 MB/s eta 0:00:02\n",
      "   ----------------------- ---------------- 14.2/24.0 MB 6.1 MB/s eta 0:00:02\n",
      "   ------------------------ --------------- 14.7/24.0 MB 6.0 MB/s eta 0:00:02\n",
      "   ------------------------- -------------- 15.1/24.0 MB 6.1 MB/s eta 0:00:02\n",
      "   ------------------------- -------------- 15.6/24.0 MB 6.7 MB/s eta 0:00:02\n",
      "   -------------------------- ------------- 15.9/24.0 MB 6.7 MB/s eta 0:00:02\n",
      "   --------------------------- ------------ 16.3/24.0 MB 6.7 MB/s eta 0:00:02\n",
      "   --------------------------- ------------ 16.6/24.0 MB 6.6 MB/s eta 0:00:02\n",
      "   ---------------------------- ----------- 16.9/24.0 MB 6.5 MB/s eta 0:00:02\n",
      "   ---------------------------- ----------- 17.1/24.0 MB 6.4 MB/s eta 0:00:02\n",
      "   ---------------------------- ----------- 17.4/24.0 MB 6.4 MB/s eta 0:00:02\n",
      "   ----------------------------- ---------- 17.7/24.0 MB 6.4 MB/s eta 0:00:01\n",
      "   ----------------------------- ---------- 17.8/24.0 MB 6.4 MB/s eta 0:00:01\n",
      "   ----------------------------- ---------- 17.8/24.0 MB 6.4 MB/s eta 0:00:01\n",
      "   ----------------------------- ---------- 17.8/24.0 MB 6.4 MB/s eta 0:00:01\n",
      "   ----------------------------- ---------- 17.8/24.0 MB 6.4 MB/s eta 0:00:01\n",
      "   ----------------------------- ---------- 17.8/24.0 MB 6.4 MB/s eta 0:00:01\n",
      "   ------------------------------ --------- 18.1/24.0 MB 5.6 MB/s eta 0:00:02\n",
      "   ------------------------------ --------- 18.3/24.0 MB 5.6 MB/s eta 0:00:02\n",
      "   ------------------------------- -------- 18.7/24.0 MB 5.6 MB/s eta 0:00:01\n",
      "   ------------------------------- -------- 19.0/24.0 MB 5.6 MB/s eta 0:00:01\n",
      "   -------------------------------- ------- 19.5/24.0 MB 5.6 MB/s eta 0:00:01\n",
      "   -------------------------------- ------- 19.8/24.0 MB 5.6 MB/s eta 0:00:01\n",
      "   --------------------------------- ------ 20.1/24.0 MB 5.6 MB/s eta 0:00:01\n",
      "   ---------------------------------- ----- 20.5/24.0 MB 5.6 MB/s eta 0:00:01\n",
      "   ---------------------------------- ----- 20.9/24.0 MB 5.6 MB/s eta 0:00:01\n",
      "   ---------------------------------- ----- 21.0/24.0 MB 5.6 MB/s eta 0:00:01\n",
      "   ---------------------------------- ----- 21.0/24.0 MB 5.6 MB/s eta 0:00:01\n",
      "   ---------------------------------- ----- 21.0/24.0 MB 5.6 MB/s eta 0:00:01\n",
      "   ---------------------------------- ----- 21.0/24.0 MB 5.6 MB/s eta 0:00:01\n",
      "   ---------------------------------- ----- 21.0/24.0 MB 5.6 MB/s eta 0:00:01\n",
      "   ---------------------------------- ----- 21.0/24.0 MB 5.6 MB/s eta 0:00:01\n",
      "   ---------------------------------- ----- 21.0/24.0 MB 5.6 MB/s eta 0:00:01\n",
      "   ----------------------------------- ---- 21.3/24.0 MB 4.7 MB/s eta 0:00:01\n",
      "   ------------------------------------ --- 21.7/24.0 MB 4.7 MB/s eta 0:00:01\n",
      "   ------------------------------------ --- 22.1/24.0 MB 4.7 MB/s eta 0:00:01\n",
      "   ------------------------------------- -- 22.5/24.0 MB 4.7 MB/s eta 0:00:01\n",
      "   -------------------------------------- - 22.9/24.0 MB 5.3 MB/s eta 0:00:01\n",
      "   -------------------------------------- - 23.3/24.0 MB 5.3 MB/s eta 0:00:01\n",
      "   ---------------------------------------  23.7/24.0 MB 5.3 MB/s eta 0:00:01\n",
      "   ---------------------------------------  24.0/24.0 MB 5.2 MB/s eta 0:00:01\n",
      "   ---------------------------------------  24.0/24.0 MB 5.2 MB/s eta 0:00:01\n",
      "   ---------------------------------------  24.0/24.0 MB 5.2 MB/s eta 0:00:01\n",
      "   ---------------------------------------- 24.0/24.0 MB 5.0 MB/s eta 0:00:00\n",
      "Downloading nptyping-2.5.0-py3-none-any.whl (37 kB)\n",
      "Downloading numba_progress-1.1.0-py3-none-any.whl (8.3 kB)\n",
      "Downloading smart_open-7.0.3-py3-none-any.whl (60 kB)\n",
      "   ---------------------------------------- 0.0/61.0 kB ? eta -:--:--\n",
      "   ---------------------------------------- 61.0/61.0 kB 1.6 MB/s eta 0:00:00\n",
      "Installing collected packages: smart-open, nptyping, numba-progress, gensim, pecanpy\n",
      "Successfully installed gensim-4.3.2 nptyping-2.5.0 numba-progress-1.1.0 pecanpy-2.0.9 smart-open-7.0.3\n",
      "Note: you may need to restart the kernel to use updated packages.\n"
     ]
    },
    {
     "name": "stderr",
     "output_type": "stream",
     "text": [
      "  WARNING: The script pecanpy.exe is installed in 'c:\\Users\\HP\\AppData\\Local\\Programs\\Python\\Python311\\Scripts' which is not on PATH.\n",
      "  Consider adding this directory to PATH or, if you prefer to suppress this warning, use --no-warn-script-location.\n"
     ]
    }
   ],
   "source": [
    "pip install pecanpy"
   ]
  },
  {
   "cell_type": "code",
   "execution_count": 4,
   "id": "fa27f10d",
   "metadata": {},
   "outputs": [],
   "source": [
    "# Importing libraries and defining constants\n",
    "\n",
    "import pandas as pd\n",
    "import numpy as np\n",
    "from pecanpy import node2vec\n",
    "from gensim.models import Word2Vec\n",
    "\n",
    "from Constants import Constants\n",
    "from tqdm import tqdm\n",
    "from joblib import load, dump\n",
    "\n",
    "GRAPH_FILE_NAME = Constants.GRAPH_FILE_NAME.value\n",
    "WEIGHTED = Constants.WEIGHTED.value\n",
    "DIRECTED = Constants.DIRECTED.value\n",
    "NUM_WALK = Constants.NUM_WALK.value\n",
    "WALK_LEN = Constants.WALK_LEN.value\n",
    "\n",
    "print(GRAPH_FILE_NAME, NUM_WALK, WALK_LEN)"
   ]
  },
  {
   "cell_type": "code",
   "execution_count": 2,
   "id": "ea276435",
   "metadata": {},
   "outputs": [
    {
     "name": "stdout",
     "output_type": "stream",
     "text": [
      "Graph Read from ../Data/ConstructedGraph/undirected_weighted_product_views_graph.parquet\n"
     ]
    }
   ],
   "source": [
    "# Loading the graph data from a parquet file\n",
    "\n",
    "graph_path = '../Data/ConstructedGraph/{}'.format(GRAPH_FILE_NAME)\n",
    "graph = pd.read_parquet(graph_path)\n",
    "\n",
    "print(\"Graph Read from {}\".format(graph_path))"
   ]
  },
  {
   "cell_type": "code",
   "execution_count": 3,
   "id": "4713a417",
   "metadata": {},
   "outputs": [
    {
     "data": {
      "text/html": [
       "<div>\n",
       "<style scoped>\n",
       "    .dataframe tbody tr th:only-of-type {\n",
       "        vertical-align: middle;\n",
       "    }\n",
       "\n",
       "    .dataframe tbody tr th {\n",
       "        vertical-align: top;\n",
       "    }\n",
       "\n",
       "    .dataframe thead th {\n",
       "        text-align: right;\n",
       "    }\n",
       "</style>\n",
       "<table border=\"1\" class=\"dataframe\">\n",
       "  <thead>\n",
       "    <tr style=\"text-align: right;\">\n",
       "      <th></th>\n",
       "      <th>pid_1</th>\n",
       "      <th>pid_2</th>\n",
       "      <th>occurence_ct</th>\n",
       "    </tr>\n",
       "  </thead>\n",
       "  <tbody>\n",
       "    <tr>\n",
       "      <th>0</th>\n",
       "      <td>3601512</td>\n",
       "      <td>3601269</td>\n",
       "      <td>37</td>\n",
       "    </tr>\n",
       "    <tr>\n",
       "      <th>1</th>\n",
       "      <td>100059274</td>\n",
       "      <td>3601306</td>\n",
       "      <td>12</td>\n",
       "    </tr>\n",
       "    <tr>\n",
       "      <th>2</th>\n",
       "      <td>5100855</td>\n",
       "      <td>4804056</td>\n",
       "      <td>880</td>\n",
       "    </tr>\n",
       "    <tr>\n",
       "      <th>3</th>\n",
       "      <td>100041977</td>\n",
       "      <td>100041934</td>\n",
       "      <td>2</td>\n",
       "    </tr>\n",
       "    <tr>\n",
       "      <th>4</th>\n",
       "      <td>100057579</td>\n",
       "      <td>100057560</td>\n",
       "      <td>11</td>\n",
       "    </tr>\n",
       "    <tr>\n",
       "      <th>...</th>\n",
       "      <td>...</td>\n",
       "      <td>...</td>\n",
       "      <td>...</td>\n",
       "    </tr>\n",
       "    <tr>\n",
       "      <th>6846587</th>\n",
       "      <td>12300752</td>\n",
       "      <td>4803895</td>\n",
       "      <td>1</td>\n",
       "    </tr>\n",
       "    <tr>\n",
       "      <th>6846588</th>\n",
       "      <td>100017063</td>\n",
       "      <td>6501098</td>\n",
       "      <td>1</td>\n",
       "    </tr>\n",
       "    <tr>\n",
       "      <th>6846589</th>\n",
       "      <td>8800741</td>\n",
       "      <td>1005195</td>\n",
       "      <td>1</td>\n",
       "    </tr>\n",
       "    <tr>\n",
       "      <th>6846590</th>\n",
       "      <td>25200369</td>\n",
       "      <td>23900098</td>\n",
       "      <td>1</td>\n",
       "    </tr>\n",
       "    <tr>\n",
       "      <th>6846591</th>\n",
       "      <td>100051139</td>\n",
       "      <td>100042051</td>\n",
       "      <td>1</td>\n",
       "    </tr>\n",
       "  </tbody>\n",
       "</table>\n",
       "<p>6846592 rows × 3 columns</p>\n",
       "</div>"
      ],
      "text/plain": [
       "             pid_1      pid_2  occurence_ct\n",
       "0          3601512    3601269            37\n",
       "1        100059274    3601306            12\n",
       "2          5100855    4804056           880\n",
       "3        100041977  100041934             2\n",
       "4        100057579  100057560            11\n",
       "...            ...        ...           ...\n",
       "6846587   12300752    4803895             1\n",
       "6846588  100017063    6501098             1\n",
       "6846589    8800741    1005195             1\n",
       "6846590   25200369   23900098             1\n",
       "6846591  100051139  100042051             1\n",
       "\n",
       "[6846592 rows x 3 columns]"
      ]
     },
     "execution_count": 3,
     "metadata": {},
     "output_type": "execute_result"
    }
   ],
   "source": [
    "graph"
   ]
  },
  {
   "cell_type": "code",
   "execution_count": 4,
   "id": "d5b65714",
   "metadata": {},
   "outputs": [
    {
     "name": "stdout",
     "output_type": "stream",
     "text": [
      "Graph undirected_weighted_product_views_graph.parquet has Nodes: 211861 | Edges: 6846592\n"
     ]
    }
   ],
   "source": [
    "# Calculate and display the count of nodes and edges in the graph\n",
    "\n",
    "Node_Count = len(set(graph['pid_1'].unique()).union(graph['pid_2'].unique()))\n",
    "Edge_Count = len(graph)\n",
    "\n",
    "print(\"Graph {} has Nodes: {} | Edges: {}\".format(GRAPH_FILE_NAME, Node_Count, Edge_Count))"
   ]
  },
  {
   "cell_type": "code",
   "execution_count": 6,
   "id": "ff022648",
   "metadata": {},
   "outputs": [],
   "source": [
    "# Saving Graph in .edg format\n",
    "\n",
    "edg_graph_path = '../Data/Edg_Graphs_DataFile/'+GRAPH_FILE_NAME.split('.')[0]+'.edg'\n",
    "graph.to_csv(edg_graph_path, sep='\\t', index=False, header=False)\n",
    "print(\"Edg Graph Saved\")"
   ]
  },
  {
   "cell_type": "markdown",
   "id": "2183260d",
   "metadata": {},
   "source": [
    "### Graph Random Walk Generation"
   ]
  },
  {
   "cell_type": "code",
   "execution_count": 6,
   "id": "b34f584d",
   "metadata": {},
   "outputs": [],
   "source": [
    "# Initialize the node2vec model with parameters for Deepwalk\n",
    "# Deepwalk has p=1 and q=1 (BFS and DFS equally important)\n",
    "\n",
    "g = node2vec.SparseOTF(p=1, q=1, workers=-1, verbose=True, extend=False)"
   ]
  },
  {
   "cell_type": "code",
   "execution_count": 23,
   "id": "e0892b33",
   "metadata": {},
   "outputs": [
    {
     "name": "stdout",
     "output_type": "stream",
     "text": [
      "Thread #  6 progress: |###                      | 9.99 %\n",
      "Thread #  3 progress: |###                      | 9.99 %\n",
      "Thread #  7 progress: |###                      | 9.99 %\n",
      "Thread #  5 progress: |###                      | 9.99 %\n",
      "Thread #  8 progress: |###                      | 9.99 %\n",
      "Thread #  0 progress: |###                      | 9.99 %\n",
      "Thread #  1 progress: |###                      | 9.99 %\n",
      "Thread #  9 progress: |###                      | 9.99 %\n",
      "Thread #  4 progress: |###                      | 9.99 %\n",
      "Thread # 11 progress: |###                      | 9.99 %\n",
      "Thread #  2 progress: |###                      | 9.99 %\n",
      "Thread # 10 progress: |###                      | 9.99 %\n",
      "Thread #  6 progress: |#####                    | 19.99 %\n",
      "Thread #  3 progress: |#####                    | 19.99 %\n",
      "Thread #  5 progress: |#####                    | 19.99 %\n",
      "Thread #  7 progress: |#####                    | 19.99 %\n",
      "Thread #  9 progress: |#####                    | 19.99 %\n",
      "Thread #  1 progress: |#####                    | 19.99 %\n",
      "Thread #Thread #   2 progress: |#####                    | 19.99 %\n",
      "Thread # 11  0 progress:progress:  |#####                    | 19.99|#####                    | % \n",
      "19.99 %\n",
      "Thread #  8 progress: |#####                    | 19.99 %\n",
      "Thread #  4 progress: |#####                    | 19.99 %\n",
      "Thread # 10 progress: |#####                    | 19.99 %\n",
      "Thread #  6 progress: |########                 | 29.99 %\n",
      "Thread #  9 progress: |########                 | 29.99 %\n",
      "Thread #  3 progress: |########                 | 29.99 %\n",
      "Thread #  5 progress: |########                 | 29.99 %\n",
      "Thread # 11 progress: |########                 | 29.99 %\n",
      "Thread #  7 progress: |########                 | 29.99 %\n",
      "Thread #  2 progress: |########                 | 29.99 %\n",
      "Thread #  1 progress: |########                 | 29.99 %\n",
      "Thread #  0 progress: |########                 | 29.99 %\n",
      "Thread #  4 progress: |########                 | 29.99 %\n",
      "Thread #  8 progress: |########                 | 29.99 %\n",
      "Thread # 10 progress: |########                 | 29.99 %\n",
      "Thread #  9 progress: |##########               | 39.99 %\n",
      "Thread #  6 progress: |##########               | 39.99 %\n",
      "Thread #  3 progress: |##########               | 39.99 %\n",
      "Thread #  5 progress: |##########               | 39.99 %\n",
      "Thread #  4 progress: |##########               | 39.99 %\n",
      "Thread #  2 progress: |##########               | 39.99 %\n",
      "Thread #  1 progress: |##########               | 39.99 %\n",
      "Thread # 11 progress: |##########               | 39.99 %\n",
      "Thread #  7 progress: |##########               | 39.99 %\n",
      "Thread #  0 progress: |##########               | 39.99 %\n",
      "Thread #  8 progress: |##########               | 39.99 %\n",
      "Thread # 10 progress: |##########               | 39.99 %\n",
      "Thread #  4 progress: |#############            | 49.99 %\n",
      "Thread #  3 progress: |#############            | 49.99 %\n",
      "Thread #  9 progress: |#############            | 49.99 %\n",
      "Thread #  6 progress: |#############            | 49.99 %\n",
      "Thread #  5 progress: |#############            | 49.99 %\n",
      "Thread #  1 progress: |#############            | 49.99 %\n",
      "Thread #  7 progress: |#############            | 49.99 %\n",
      "Thread # 11 progress: |#############            | 49.99 %\n",
      "Thread #  2 progress: |#############            | 49.99 %\n",
      "Thread #  0 progress: |#############            | 49.99 %\n",
      "Thread #  8 progress: |#############            | 49.99 %\n",
      "Thread # 10 progress: |#############            | 49.99 %\n",
      "Thread #  9 progress: |###############          | 59.99 %\n",
      "Thread #  3 progress: |###############          | 59.99 %\n",
      "Thread #  6 progress: |###############          | 59.99 %\n",
      "Thread #  2 progress: |###############          | 59.99 %\n",
      "Thread # 11 progress: |###############          | 59.99 %\n",
      "Thread #  5 progress: |###############          | 59.99 %\n",
      "Thread #  0 progress: |###############          | 59.99 %\n",
      "Thread #  1 progress: |###############          | 59.99 %\n",
      "Thread #  4 progress: |###############          | 59.99 %\n",
      "Thread #  7 progress: |###############          | 59.99 %\n",
      "Thread #  8 progress: |###############          | 59.99 %\n",
      "Thread # 10 progress: |###############          | 59.99 %\n",
      "Thread #  9 progress: |##################       | 69.99 %\n",
      "Thread #  6 progress: |##################       | 69.99 %\n",
      "Thread #  3 progress: |##################       | 69.99 %\n",
      "Thread #  2 progress: |##################       | 69.99 %\n",
      "Thread # 11 progress: |##################       | 69.99 %\n",
      "Thread #  5 progress: |##################       | 69.99 %\n",
      "Thread #  0 progress: |##################       | 69.99 %\n",
      "Thread #  7 progress: |##################       | 69.99 %\n",
      "Thread #  4 progress: |##################       | 69.99 %\n",
      "Thread #  1 progress: Thread #  8 progress: |##################       | 69.99 %\n",
      "|##################       | 69.99 %\n",
      "Thread # 10 progress: |##################       | 69.99 %\n",
      "Thread #  9 progress: |####################     | 79.99 %\n",
      "Thread #  2 progress: |####################     | 79.99 %\n",
      "Thread #  6 progress: |####################     | 79.99 %\n",
      "Thread #  0 progress: |####################     | 79.99 %\n",
      "Thread #  5 progress: |####################     | 79.99 %\n",
      "Thread #  3 progress: |####################     | 79.99 %\n",
      "Thread #  4 progress: |####################     | 79.99 %\n",
      "Thread # 11 progress: |####################     | 79.99 %\n",
      "Thread #  7 progress: |####################     | 79.99 %\n",
      "Thread #  8 progress: |####################     | 79.99 %\n",
      "Thread #  1 progress: |####################     | 79.99 %\n",
      "Thread # 10 progress: |####################     | 79.99 %\n",
      "Thread #  9 progress: |#######################  | 89.99 %\n",
      "Thread #  0 progress: |#######################  | 89.99 %\n",
      "Thread #  2 progress: |#######################  | 89.99 %\n",
      "Thread #  5 progress: |#######################  | 89.99 %\n",
      "Thread #  6 progress: |#######################  | 89.99 %\n",
      "Thread #  4 progress: |#######################  | 89.99 %\n",
      "Thread # 11 progress: |#######################  | 89.99 %\n",
      "Thread #  3 progress: |#######################  | 89.99 %\n",
      "Thread #  8 progress: |#######################  | 89.99 %\n",
      "Thread #  7 progress: |#######################  | 89.99 %\n",
      "Thread #  1 progress: |#######################  | 89.99 %\n",
      "Thread # 10 progress: |#######################  | 89.99 %\n",
      "Thread #  6 progress: |#########################| 99.99 %\n",
      "Thread #  9 progress: |#########################| 99.99 %\n",
      "Thread #  2 progress: |#########################| 99.99 %\n",
      "Thread #  0 progress: |#########################| 99.99 %\n",
      "Thread # 11 progress: |#########################| 99.99 %\n",
      "Thread #  5 progress: |#########################| 99.99 %\n",
      "Thread #  7 progress: |#########################| 99.99 %\n",
      "Thread #  3 progress: |#########################| 99.99 %\n",
      "Thread #  8 progress: |#########################| 99.99 %\n",
      "Thread #  4 progress: |#########################| 99.99 %\n",
      "Thread #  1 progress: |#########################| 99.99 %\n",
      "Thread # 10 progress: |#########################| 99.99 %\n",
      "CPU times: user 2h 39min 39s, sys: 1min 36s, total: 2h 41min 15s\n",
      "Wall time: 16min 54s\n"
     ]
    }
   ],
   "source": [
    "# Simulating walks for Deepwalk\n",
    "\n",
    "%%time\n",
    "g.read_edg(edg_graph_path, weighted=WEIGHTED, directed=DIRECTED)\n",
    "\n",
    "walks = g.simulate_walks(num_walks=NUM_WALK, walk_length=WALK_LEN)"
   ]
  },
  {
   "cell_type": "code",
   "execution_count": 24,
   "id": "fd6704d9",
   "metadata": {},
   "outputs": [],
   "source": [
    "# Asserting that the number of walks equals expected count\n",
    "\n",
    "assert len(walks) == Node_Count*NUM_WALK"
   ]
  },
  {
   "cell_type": "code",
   "execution_count": 18,
   "id": "eb8bfa96",
   "metadata": {},
   "outputs": [
    {
     "name": "stdout",
     "output_type": "stream",
     "text": [
      "['21405226', '21402696', '21403660', '21401562', '21401454', '21401223', '21400508', '1005105', '1004249', '1002544', '1002524', '5100816', '100042795', '5100476', '5100463', '5100577', '100084968', '10100767', '10100052', '10100054', '10100767', '10101219', '10100825', '100040048', '10400618', '7203417', '8000320', '8000040', '8000303', '8000003', '8000351', '100012123', '7900702', '7101466', '7101666', '7101898', '7101926', '7102070', '7101666', '7101819', '7101816', '7101976', '100064427', '7002254', '7001735', '7002066', '7002254', '7005191', '7003686', '7003804', '6902600']\n"
     ]
    }
   ],
   "source": [
    "print(walks[0])"
   ]
  },
  {
   "cell_type": "code",
   "execution_count": 26,
   "id": "a966ead4",
   "metadata": {},
   "outputs": [
    {
     "name": "stdout",
     "output_type": "stream",
     "text": [
      "CPU times: user 9h 11min 54s, sys: 3min 21s, total: 9h 15min 15s\n",
      "Wall time: 2h 26min 56s\n"
     ]
    }
   ],
   "source": [
    "\n",
    "# Training the Deepwalk model using the generated walks\n",
    "\n",
    "%%time\n",
    "# model = Word2Vec(sentences=walks, vector_size=128, window=7, workers=-1, negative=10)\n",
    "\n",
    "model = Word2Vec(walks,  \n",
    "                 hs=1, \n",
    "                 sg = 1,  \n",
    "                 vector_size=128,  \n",
    "                 window=5,\n",
    "                 min_count=1,\n",
    "                 workers=-1,\n",
    "                 seed=42)"
   ]
  },
  {
   "cell_type": "code",
   "execution_count": 27,
   "id": "65688c24",
   "metadata": {},
   "outputs": [],
   "source": [
    "# Saving the trained Deepwalk model\n",
    "model.save('../Model/deepwalk_graph_embedding_'+GRAPH_FILE_NAME.split('.')[0]+'.model')"
   ]
  },
  {
   "cell_type": "code",
   "execution_count": 28,
   "id": "6ed27c73",
   "metadata": {},
   "outputs": [
    {
     "name": "stderr",
     "output_type": "stream",
     "text": [
      "100%|██████████| 211861/211861 [00:01<00:00, 201291.01it/s]\n"
     ]
    }
   ],
   "source": [
    "# Extracting embedding vectors from the Deepwalk model\n",
    "\n",
    "pid_set = set(graph['pid_1'].unique()).union(graph['pid_2'].unique())\n",
    "payload = []\n",
    "for pid in tqdm(pid_set):\n",
    "    try:\n",
    "        payload.append({'pid': pid, 'embedding_vector': model.wv[str(pid)]})\n",
    "    except:\n",
    "        print(pid, \"Not Exist\")\n",
    "        pass"
   ]
  },
  {
   "cell_type": "code",
   "execution_count": 29,
   "id": "f343721f",
   "metadata": {},
   "outputs": [],
   "source": [
    "# Saving the Deepwalk embedding vectors\n",
    "\n",
    "embedding_df = pd.DataFrame(payload)\n",
    "embedding_df.to_parquet('../Data/Embedding_Data/deepwalk_embedding_df_'+GRAPH_FILE_NAME.split('.')[0]+'.parquet', index=False)"
   ]
  },
  {
   "cell_type": "markdown",
   "id": "e53e739a",
   "metadata": {},
   "source": [
    "## Node2vec"
   ]
  },
  {
   "cell_type": "code",
   "execution_count": 7,
   "id": "563b685b",
   "metadata": {},
   "outputs": [],
   "source": [
    "# Initializing the node2vec model with parameters for biased random walks\n",
    "\n",
    "g = node2vec.SparseOTF(p=1, q=0.5, workers=-1, verbose=True, extend=True)"
   ]
  },
  {
   "cell_type": "code",
   "execution_count": 8,
   "id": "ec3fa32e",
   "metadata": {},
   "outputs": [
    {
     "name": "stdout",
     "output_type": "stream",
     "text": [
      "Thread #  2 progress: |###                      | 9.99 %\n",
      "Thread #  4 progress: |###                      | 9.99 %\n",
      "Thread #  8 progress: |###                      | 9.99 %\n",
      "Thread #  7 progress: |###                      | 9.99 %\n",
      "Thread #  3 progress: |###                      | 9.99 %\n",
      "Thread #  9Thread #  progress: |###                      | 9.99 %\n",
      " 5 progress: |###                      | 9.99 %\n",
      "Thread #  6 progress: |###                      | 9.99 %\n",
      "Thread # 10 progress: |###                      | 9.99 %\n",
      "Thread #  1 progress: |###                      | 9.99 %\n",
      "Thread # 11 progress: |###                      | 9.99 %\n",
      "Thread #  0 progress: |###                      | 9.99 %\n",
      "Thread #  4 progress: |#####                    | 19.99 %\n",
      "Thread #  2 progress: |#####                    | 19.99 %\n",
      "Thread #  3 progress: |#####                    | 19.99 %\n",
      "Thread #  7 progress: |#####                    | 19.99 %\n",
      "Thread #  8 progress: |#####                    | 19.99 %\n",
      "Thread #  5 progress: |#####                    | 19.99 %\n",
      "Thread # 10 progress: |#####                    | 19.99 %\n",
      "Thread #  1 progress: |#####                    | 19.99 %\n",
      "Thread #  6 progress: |#####                    | 19.99 %\n",
      "Thread #  9 progress: |#####                    | 19.99 %\n",
      "Thread # 11 progress: |#####                    | 19.99 %\n",
      "Thread #  0 progress: |#####                    | 19.99 %\n",
      "Thread #  4 progress: |########                 | 29.99 %\n",
      "Thread #  2 progress: |########                 | 29.99 %\n",
      "Thread #  1 progress: |########                 | 29.99 %\n",
      "Thread #  7 progress: |########                 | 29.99 %\n",
      "Thread # 10 progress: |########                 | 29.99 %\n",
      "Thread #  6 progress: |########                 | 29.99 %\n",
      "Thread #  3 progress: |########                 | 29.99 %\n",
      "Thread #  8 progress: |########                 | 29.99 %\n",
      "Thread #  5 progress: |########                 | 29.99 %\n",
      "Thread # 11 progress: |########                 | 29.99 %\n",
      "Thread #  9 progress: |########                 | 29.99 %\n",
      "Thread #  0 progress: |########                 | 29.99 %\n",
      "Thread #  4 progress: |##########               | 39.99 %\n",
      "Thread # 10 progress: |##########               | 39.99 %\n",
      "Thread #  2 progress: |##########               | 39.99 %\n",
      "Thread #  6 progress: |##########               | 39.99 %\n",
      "Thread #  1 progress: |##########               | 39.99 %\n",
      "Thread #  8 progress: |##########               | 39.99 %\n",
      "Thread #  5 progress: |##########               | 39.99 %\n",
      "Thread # 11 progress: |##########               | 39.99 %\n",
      "Thread #  7 progress: |##########               | 39.99 %\n",
      "Thread #  9 progress: |##########               | 39.99 %\n",
      "Thread #  3 progress: |##########               | 39.99 %\n",
      "Thread #  0 progress: |##########               | 39.99 %\n",
      "Thread #  4 progress: |#############            | 49.99 %\n",
      "Thread # 10 progress: |#############            | 49.99 %\n",
      "Thread # 11 progress: |#############            | 49.99 %\n",
      "Thread #  7 progress: |#############            | 49.99 %\n",
      "Thread #  2 progress: |#############            | 49.99 %\n",
      "Thread #  1 progress: |#############            | 49.99 %\n",
      "Thread #  8 progress: |#############            | 49.99 %\n",
      "Thread #  6 progress: |#############            | 49.99 %\n",
      "Thread #  5 progress: |#############            | 49.99 %\n",
      "Thread #  9 progress: |#############            | 49.99 %\n",
      "Thread #  3 progress: |#############            | 49.99 %\n",
      "Thread #  0 progress: |#############            | 49.99 %\n",
      "Thread #  4 progress: |###############          | 59.99 %\n",
      "Thread # 10 progress: |###############          | 59.99 %\n",
      "Thread # 11 progress: |###############          | 59.99 %\n",
      "Thread #  1 progress: |###############          | 59.99 %\n",
      "Thread #  2 progress: |###############          | 59.99 %\n",
      "Thread #  8 progress: |###############          | 59.99 %\n",
      "Thread #  3 progress: |###############          | 59.99 %\n",
      "Thread #  6 progress: |###############          | 59.99 %\n",
      "Thread #  7 progress: |###############          | 59.99 %\n",
      "Thread #  9 progress: |###############          | 59.99 %\n",
      "Thread #  5 progress: |###############          | 59.99 %\n",
      "Thread #  0 progress: |###############          | 59.99 %\n",
      "Thread #  4 progress: |##################       | 69.99 %\n",
      "Thread # 10 progress: |##################       | 69.99 %\n",
      "Thread # 11 progress: |##################       | 69.99 %\n",
      "Thread #  1 progress: |##################       | 69.99 %\n",
      "Thread #  2 progress: |##################       | 69.99 %\n",
      "Thread #  8 progress: |##################       | 69.99 %\n",
      "Thread #  Thread #  6 progress: |##################       | 69.99 %\n",
      "7 progress: |##################       | 69.99 %\n",
      "Thread #  3 progress: |##################       | 69.99 %\n",
      "Thread #  9 progress: |##################       | 69.99 %\n",
      "Thread #  5 progress: |##################       | 69.99 %\n",
      "Thread #  0 progress: |##################       | 69.99 %\n",
      "Thread #  4 progress: |####################     | 79.99 %\n",
      "Thread # 10 progress: |####################     | 79.99 %\n",
      "Thread #  1 progress: |####################     | 79.99 %\n",
      "Thread #  2 progress: |####################     | 79.99 %\n",
      "Thread #  8 progress: |####################     | 79.99 %\n",
      "Thread # 11 progress: |####################     | 79.99 %\n",
      "Thread #  7 progress: |####################     | 79.99 %\n",
      "Thread #  6 progress: |####################     | 79.99 %\n",
      "Thread #  3 progress: |####################     | 79.99 %\n",
      "Thread #  5 progress: |####################     | 79.99 %\n",
      "Thread #  9 progress: |####################     | 79.99 %\n",
      "Thread #  0 progress: |####################     | 79.99 %\n",
      "Thread #  4 progress: |#######################  | 89.99 %\n",
      "Thread #  1 progress: |#######################  | 89.99 %\n",
      "Thread #  2 progress: |#######################  | 89.99 %\n",
      "Thread # 10 progress: |#######################  | 89.99 %\n",
      "Thread #  8 progress: |#######################  | 89.99 %\n",
      "Thread # 11 progress: |#######################  | 89.99 %\n",
      "Thread #  3 progress: |#######################  | 89.99 %\n",
      "Thread #  7 progress: |#######################  | 89.99 %\n",
      "Thread #  6 progress: |#######################  | 89.99 %\n",
      "Thread #  9 progress: |#######################  | 89.99 %\n",
      "Thread #  5 progress: |#######################  | 89.99 %\n",
      "Thread #  0 progress: |#######################  | 89.99 %\n",
      "Thread #  4 progress: |#########################| 99.99 %\n",
      "Thread #  1 progress: |#########################| 99.99 %\n",
      "Thread #  2 progress: |#########################| 99.99 %\n",
      "Thread #  8 progress: |#########################| 99.99 %\n",
      "Thread # 11 progress: |#########################| 99.99 %\n",
      "Thread # 10 progress: |#########################| 99.99 %\n",
      "Thread #  3 progress: |#########################| 99.99 %\n",
      "Thread #  7 progress: |#########################| 99.99 %\n",
      "Thread #  6 progress: |#########################| 99.99 %\n",
      "Thread #  9 progress: |#########################| 99.99 %\n",
      "Thread #  5 progress: |#########################| 99.99 %\n",
      "Thread #  0 progress: |#########################| 99.99 %\n",
      "CPU times: user 2h 43min 10s, sys: 4min 14s, total: 2h 47min 25s\n",
      "Wall time: 16min 32s\n"
     ]
    }
   ],
   "source": [
    "# Simulating biased walks for node2vec4\n",
    "\n",
    "%%time\n",
    "g.read_edg(edg_graph_path, weighted=WEIGHTED, directed=DIRECTED)\n",
    "\n",
    "walks = g.simulate_walks(num_walks=NUM_WALK, walk_length=WALK_LEN)"
   ]
  },
  {
   "cell_type": "code",
   "execution_count": 9,
   "id": "18fc5bef",
   "metadata": {},
   "outputs": [],
   "source": [
    "assert len(walks) == Node_Count*NUM_WALK"
   ]
  },
  {
   "cell_type": "code",
   "execution_count": 10,
   "id": "e440c0a2",
   "metadata": {},
   "outputs": [
    {
     "name": "stdout",
     "output_type": "stream",
     "text": [
      "['11500381', '11500310', '11500720', '11500159', '4804295', '5100816', '5100817', '100041309', '5100536', '5100597', '100041309', '5100818', '5100816', '5100875', '5100719', '5100564', '5100577', '100015591', '5100895', '100015591', '5100876', '5100888', '5100860', '5100852', '3601283', '3601605', '3601603', '3600661', '3601495', '3601632', '3601638', '3601015', '3600980', '3600661', '3600937', '3600666', '3600937', '3600661', '3600666', '3601347', '3600182', '3601489', '3601537', '3600937', '3601437', '3601421', '3601286', '3601454', '3600999', '3601514', '2702331']\n"
     ]
    }
   ],
   "source": [
    "print(walks[0])"
   ]
  },
  {
   "cell_type": "code",
   "execution_count": 11,
   "id": "aa59ec49",
   "metadata": {},
   "outputs": [
    {
     "name": "stdout",
     "output_type": "stream",
     "text": [
      "CPU times: user 4h 27min 53s, sys: 1min 1s, total: 4h 28min 55s\n",
      "Wall time: 1h 9min 22s\n"
     ]
    }
   ],
   "source": [
    "# Training the node2vec model using the generated biased walks\n",
    "\n",
    "%%time\n",
    "model = Word2Vec(walks,  # previously generated walks\n",
    "                 hs=1,  # tells the model to use hierarchical softmax\n",
    "                 sg = 1,  # tells the model to use skip-gram\n",
    "                 vector_size=128,  # size of the embedding\n",
    "                 window=5,\n",
    "                 min_count=1,\n",
    "                 workers=4,\n",
    "                 seed=42)"
   ]
  },
  {
   "cell_type": "code",
   "execution_count": 12,
   "id": "0e5288e1",
   "metadata": {},
   "outputs": [],
   "source": [
    "# Saving the trained node2vec model\n",
    "\n",
    "model.save('../Model/node2vec_graph_embedding_'+GRAPH_FILE_NAME.split('.')[0]+'.model')"
   ]
  },
  {
   "cell_type": "code",
   "execution_count": 13,
   "id": "2b9cc9a3",
   "metadata": {},
   "outputs": [
    {
     "name": "stderr",
     "output_type": "stream",
     "text": [
      "100%|██████████| 211861/211861 [00:01<00:00, 182278.49it/s]\n"
     ]
    }
   ],
   "source": [
    "# Extracting embedding vectors from the node2vec model\n",
    "\n",
    "pid_set = set(graph['pid_1'].unique()).union(graph['pid_2'].unique())\n",
    "payload = []\n",
    "for pid in tqdm(pid_set):\n",
    "    try:\n",
    "        payload.append({'pid': pid, 'embedding_vector': model.wv[str(pid)]})\n",
    "    except:\n",
    "        print(pid, \"Not Exist\")\n",
    "        pass"
   ]
  },
  {
   "cell_type": "code",
   "execution_count": 14,
   "id": "bff15eee",
   "metadata": {},
   "outputs": [],
   "source": [
    "embedding_df = pd.DataFrame(payload)\n",
    "embedding_df.to_parquet('../Data/Embedding_Data/node2vec_embedding_df_'+GRAPH_FILE_NAME.split('.')[0]+'.parquet', index=False)"
   ]
  },
  {
   "cell_type": "code",
   "execution_count": 15,
   "id": "37fb067e",
   "metadata": {},
   "outputs": [
    {
     "data": {
      "text/html": [
       "<div>\n",
       "<style scoped>\n",
       "    .dataframe tbody tr th:only-of-type {\n",
       "        vertical-align: middle;\n",
       "    }\n",
       "\n",
       "    .dataframe tbody tr th {\n",
       "        vertical-align: top;\n",
       "    }\n",
       "\n",
       "    .dataframe thead th {\n",
       "        text-align: right;\n",
       "    }\n",
       "</style>\n",
       "<table border=\"1\" class=\"dataframe\">\n",
       "  <thead>\n",
       "    <tr style=\"text-align: right;\">\n",
       "      <th></th>\n",
       "      <th>pid</th>\n",
       "      <th>embedding_vector</th>\n",
       "    </tr>\n",
       "  </thead>\n",
       "  <tbody>\n",
       "    <tr>\n",
       "      <th>0</th>\n",
       "      <td>17301504</td>\n",
       "      <td>[0.44851154, 0.40735474, -0.172185, 0.07374085...</td>\n",
       "    </tr>\n",
       "    <tr>\n",
       "      <th>1</th>\n",
       "      <td>17301505</td>\n",
       "      <td>[0.47892618, 0.20487863, 0.021507299, -0.62510...</td>\n",
       "    </tr>\n",
       "    <tr>\n",
       "      <th>2</th>\n",
       "      <td>17301506</td>\n",
       "      <td>[0.25423482, 0.47845665, -0.001093431, 0.03616...</td>\n",
       "    </tr>\n",
       "    <tr>\n",
       "      <th>3</th>\n",
       "      <td>17301507</td>\n",
       "      <td>[-0.10483544, 0.22859468, -0.16854355, 0.21888...</td>\n",
       "    </tr>\n",
       "    <tr>\n",
       "      <th>4</th>\n",
       "      <td>17301508</td>\n",
       "      <td>[0.83427334, 0.5198858, 0.011705197, 0.4507888...</td>\n",
       "    </tr>\n",
       "  </tbody>\n",
       "</table>\n",
       "</div>"
      ],
      "text/plain": [
       "        pid                                   embedding_vector\n",
       "0  17301504  [0.44851154, 0.40735474, -0.172185, 0.07374085...\n",
       "1  17301505  [0.47892618, 0.20487863, 0.021507299, -0.62510...\n",
       "2  17301506  [0.25423482, 0.47845665, -0.001093431, 0.03616...\n",
       "3  17301507  [-0.10483544, 0.22859468, -0.16854355, 0.21888...\n",
       "4  17301508  [0.83427334, 0.5198858, 0.011705197, 0.4507888..."
      ]
     },
     "execution_count": 15,
     "metadata": {},
     "output_type": "execute_result"
    }
   ],
   "source": [
    "embedding_df.head()"
   ]
  }
 ],
 "metadata": {
  "interpreter": {
   "hash": "dca0ade3e726a953b501b15e8e990130d2b7799f14cfd9f4271676035ebe5511"
  },
  "kernelspec": {
   "display_name": "Python 3",
   "language": "python",
   "name": "python3"
  },
  "language_info": {
   "codemirror_mode": {
    "name": "ipython",
    "version": 3
   },
   "file_extension": ".py",
   "mimetype": "text/x-python",
   "name": "python",
   "nbconvert_exporter": "python",
   "pygments_lexer": "ipython3",
   "version": "3.11.1"
  }
 },
 "nbformat": 4,
 "nbformat_minor": 5
}

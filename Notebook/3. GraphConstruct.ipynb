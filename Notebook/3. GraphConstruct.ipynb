{
 "cells": [
  {
   "cell_type": "code",
   "execution_count": 1,
   "id": "578ba791",
   "metadata": {},
   "outputs": [
    {
     "name": "stdout",
     "output_type": "stream",
     "text": [
      "Requirement already satisfied: decorator in c:\\users\\hp\\appdata\\roaming\\python\\python311\\site-packages (5.1.1)\n",
      "Collecting networkx\n",
      "  Using cached networkx-3.2.1-py3-none-any.whl (1.6 MB)\n",
      "Installing collected packages: networkx\n",
      "Successfully installed networkx-3.2.1\n"
     ]
    }
   ],
   "source": [
    "!pip3 install --upgrade decorator\n",
    "!pip3 install --upgrade networkx"
   ]
  },
  {
   "cell_type": "markdown",
   "id": "2f299777",
   "metadata": {},
   "source": [
    "### Graphs over different `event_type`: View, Cart, Purchase\n",
    "The objective for this project is to develop a recommendation system that suggests products related or similar to the one the user is currently browsing.\n"
   ]
  },
  {
   "cell_type": "code",
   "execution_count": 2,
   "id": "2c8348e7",
   "metadata": {},
   "outputs": [],
   "source": [
    "# Importing libraries and initializing DuckDB connection\n",
    "\n",
    "import pandas as pd\n",
    "import numpy as np\n",
    "import duckdb\n",
    "import time\n",
    "import networkx as nx\n",
    "import matplotlib.pyplot as plt\n",
    "\n",
    "start = time.time()\n",
    "con = duckdb.connect(database=':memory:', read_only=False)"
   ]
  },
  {
   "cell_type": "code",
   "execution_count": 3,
   "id": "fdfaea41",
   "metadata": {},
   "outputs": [
    {
     "data": {
      "text/html": [
       "<div>\n",
       "<style scoped>\n",
       "    .dataframe tbody tr th:only-of-type {\n",
       "        vertical-align: middle;\n",
       "    }\n",
       "\n",
       "    .dataframe tbody tr th {\n",
       "        vertical-align: top;\n",
       "    }\n",
       "\n",
       "    .dataframe thead th {\n",
       "        text-align: right;\n",
       "    }\n",
       "</style>\n",
       "<table border=\"1\" class=\"dataframe\">\n",
       "  <thead>\n",
       "    <tr style=\"text-align: right;\">\n",
       "      <th></th>\n",
       "      <th>user_session</th>\n",
       "      <th>count_pdp_views_per_session</th>\n",
       "    </tr>\n",
       "  </thead>\n",
       "  <tbody>\n",
       "    <tr>\n",
       "      <th>0</th>\n",
       "      <td>5de976a3-ec27-4364-ae1e-ccbe2f8c52ce</td>\n",
       "      <td>2</td>\n",
       "    </tr>\n",
       "    <tr>\n",
       "      <th>1</th>\n",
       "      <td>78fe8b75-11b8-4301-9bf1-23bd611af33b</td>\n",
       "      <td>2</td>\n",
       "    </tr>\n",
       "    <tr>\n",
       "      <th>2</th>\n",
       "      <td>803c3435-765b-4738-8aa9-ca9d6ce1590a</td>\n",
       "      <td>2</td>\n",
       "    </tr>\n",
       "    <tr>\n",
       "      <th>3</th>\n",
       "      <td>42f50340-a913-40ae-920d-a9668daf838e</td>\n",
       "      <td>3</td>\n",
       "    </tr>\n",
       "    <tr>\n",
       "      <th>4</th>\n",
       "      <td>f15e30a5-7c0b-46c4-a76c-2935ee036a70</td>\n",
       "      <td>17</td>\n",
       "    </tr>\n",
       "    <tr>\n",
       "      <th>...</th>\n",
       "      <td>...</td>\n",
       "      <td>...</td>\n",
       "    </tr>\n",
       "    <tr>\n",
       "      <th>5340110</th>\n",
       "      <td>a2bba777-c67c-4e52-9de1-5fd228e0cb6e</td>\n",
       "      <td>2</td>\n",
       "    </tr>\n",
       "    <tr>\n",
       "      <th>5340111</th>\n",
       "      <td>4f1aac7c-cea7-4219-b730-aca92c8cc3ed</td>\n",
       "      <td>3</td>\n",
       "    </tr>\n",
       "    <tr>\n",
       "      <th>5340112</th>\n",
       "      <td>b72301f4-7f8d-4e7a-b758-8f615aa5fb30</td>\n",
       "      <td>2</td>\n",
       "    </tr>\n",
       "    <tr>\n",
       "      <th>5340113</th>\n",
       "      <td>d3ca7a4c-d27a-40e6-acce-f68ffeb32b47</td>\n",
       "      <td>3</td>\n",
       "    </tr>\n",
       "    <tr>\n",
       "      <th>5340114</th>\n",
       "      <td>369d2ca1-263f-476e-b1a0-1c690c439db9</td>\n",
       "      <td>2</td>\n",
       "    </tr>\n",
       "  </tbody>\n",
       "</table>\n",
       "<p>5340115 rows × 2 columns</p>\n",
       "</div>"
      ],
      "text/plain": [
       "                                 user_session  count_pdp_views_per_session\n",
       "0        5de976a3-ec27-4364-ae1e-ccbe2f8c52ce                            2\n",
       "1        78fe8b75-11b8-4301-9bf1-23bd611af33b                            2\n",
       "2        803c3435-765b-4738-8aa9-ca9d6ce1590a                            2\n",
       "3        42f50340-a913-40ae-920d-a9668daf838e                            3\n",
       "4        f15e30a5-7c0b-46c4-a76c-2935ee036a70                           17\n",
       "...                                       ...                          ...\n",
       "5340110  a2bba777-c67c-4e52-9de1-5fd228e0cb6e                            2\n",
       "5340111  4f1aac7c-cea7-4219-b730-aca92c8cc3ed                            3\n",
       "5340112  b72301f4-7f8d-4e7a-b758-8f615aa5fb30                            2\n",
       "5340113  d3ca7a4c-d27a-40e6-acce-f68ffeb32b47                            3\n",
       "5340114  369d2ca1-263f-476e-b1a0-1c690c439db9                            2\n",
       "\n",
       "[5340115 rows x 2 columns]"
      ]
     },
     "execution_count": 3,
     "metadata": {},
     "output_type": "execute_result"
    }
   ],
   "source": [
    "# Querying sessions with more than one product view\n",
    "\n",
    "con.query('''\n",
    "SELECT \n",
    "user_session, \n",
    "count(distinct product_id) as count_pdp_views_per_session\n",
    "FROM '../Data/optimised_raw_data.parquet'\n",
    "WHERE event_type = 'view'\n",
    "  AND user_session IS NOT NULL\n",
    "  AND product_id IS NOT NULL\n",
    "GROUP BY user_session\n",
    "HAVING count(distinct product_id) > 1\n",
    "''').df()"
   ]
  },
  {
   "cell_type": "markdown",
   "id": "a59aa866",
   "metadata": {},
   "source": [
    "Observation: There are 7Million+ sessions with more than 1 pdp view and 5M+ are distinct product views."
   ]
  },
  {
   "cell_type": "code",
   "execution_count": 20,
   "id": "67d67bca",
   "metadata": {},
   "outputs": [],
   "source": [
    "# Creating a table of product views within multi-view sessions\n",
    "\n",
    "con.execute('''\n",
    "CREATE TABLE product_view_tbl AS\n",
    "SELECT \n",
    "user_id,\n",
    "product_id, \n",
    "CAST(event_time[:-3] as DATETIME) as event_time, \n",
    "user_session\n",
    "FROM '../Data/optimised_raw_data.parquet'\n",
    "WHERE user_session in (SELECT \n",
    "user_session\n",
    "FROM '../Data/optimised_raw_data.parquet'\n",
    "WHERE event_type = 'view'\n",
    "  AND user_session IS NOT NULL\n",
    "  AND product_id IS NOT NULL\n",
    "GROUP BY user_session\n",
    "HAVING count(distinct product_id) > 1)\n",
    "ORDER BY user_session, CAST(event_time[:-3] as DATETIME)\n",
    "''').df()"
   ]
  },
  {
   "cell_type": "code",
   "execution_count": 19,
   "id": "7d50e74a",
   "metadata": {},
   "outputs": [],
   "source": [
    "con.query(\"\"\"SELECT *\n",
    "FROM product_view_tbl\n",
    "WHERE user_session = '29e0ff8c-d2c0-474b-b02b-8a17445100c8'\"\"\").df()"
   ]
  },
  {
   "cell_type": "code",
   "execution_count": 22,
   "id": "9b2b231c",
   "metadata": {},
   "outputs": [],
   "source": [
    "# Querying next viewed product within a session to form edges\n",
    "\n",
    "sub_graph = con.query(\"\"\"SELECT \n",
    "       product_id,\n",
    "       LEAD(product_id, 1, -1) OVER (PARTITION BY user_session ORDER BY event_time) AS next_viewed_product_id,\n",
    "        user_session,\n",
    "        event_time\n",
    "FROM product_view_tbl\n",
    "WHERE user_session = '29e0ff8c-d2c0-474b-b02b-8a17445100c8' \"\"\").df()\n",
    "sub_graph"
   ]
  },
  {
   "cell_type": "code",
   "execution_count": 8,
   "id": "a123e56d",
   "metadata": {},
   "outputs": [
    {
     "data": {
      "text/plain": [
       "[[26201121, 26204318],\n",
       " [26204318, 26200951],\n",
       " [26200951, 26200951],\n",
       " [26200951, 26203272],\n",
       " [26203272, 26203272],\n",
       " [26203272, 26201124],\n",
       " [26201124, 26201124],\n",
       " [26201124, 26200344],\n",
       " [26200344, 100037882],\n",
       " [100037882, 100037882],\n",
       " [100037882, 26204653],\n",
       " [26204653, 26202732],\n",
       " [26202732, 100000092],\n",
       " [100000092, -1]]"
      ]
     },
     "execution_count": 8,
     "metadata": {},
     "output_type": "execute_result"
    }
   ],
   "source": [
    "# Creating a edge list from the query result\n",
    "\n",
    "edge_list = [[x[0], x[1]] for x in sub_graph[['product_id', 'next_viewed_product_id']].to_numpy()]\n",
    "edge_list"
   ]
  },
  {
   "cell_type": "code",
   "execution_count": 9,
   "id": "f94047c8",
   "metadata": {},
   "outputs": [
    {
     "data": {
      "image/png": "[encoded data removed]",
      "text/plain": [
       "<Figure size 432x288 with 1 Axes>"
      ]
     },
     "metadata": {},
     "output_type": "display_data"
    }
   ],
   "source": [
    "# Visualizing the graph for a single session\n",
    "\n",
    "G = nx.Graph()\n",
    "G.add_edges_from(edge_list)\n",
    "nx.draw(G, with_labels=True)\n",
    "plt.show()"
   ]
  },
  {
   "cell_type": "code",
   "execution_count": 10,
   "id": "fce3867e",
   "metadata": {},
   "outputs": [
    {
     "data": {
      "image/png": "[encoded data removed]",
      "text/plain": [
       "<Figure size 432x288 with 1 Axes>"
      ]
     },
     "metadata": {},
     "output_type": "display_data"
    }
   ],
   "source": [
    "# Query for constructing the full edge list\n",
    "\n",
    "sub_graph = con.query(\"\"\"\n",
    "SELECT * FROM (SELECT \n",
    "       product_id,\n",
    "       LEAD(product_id, 1, -1) OVER (PARTITION BY user_session ORDER BY event_time) AS next_viewed_product_id,\n",
    "        user_session,\n",
    "        event_time\n",
    "FROM product_view_tbl\n",
    "WHERE user_session = '29e0ff8c-d2c0-474b-b02b-8a17445100c8' ) as A where product_id<>next_viewed_product_id and next_viewed_product_id<>-1\"\"\").df()\n",
    "edge_list = [[x[0], x[1]] for x in sub_graph[['product_id', 'next_viewed_product_id']].to_numpy()]\n",
    "G = nx.Graph()\n",
    "G.add_edges_from(edge_list)\n",
    "nx.draw(G, with_labels=True)\n",
    "plt.show()"
   ]
  },
  {
   "cell_type": "code",
   "execution_count": 11,
   "id": "34c8ff34",
   "metadata": {},
   "outputs": [
    {
     "data": {
      "image/png": "[encoded data removed]",
      "text/plain": [
       "<Figure size 432x288 with 1 Axes>"
      ]
     },
     "metadata": {},
     "output_type": "display_data"
    }
   ],
   "source": [
    "# Displaying a sample from the product views graph\n",
    "\n",
    "sub_graph = con.query(\"\"\"SELECT \n",
    "       product_id,\n",
    "       LEAD(product_id, 1, -1) OVER (PARTITION BY user_session ORDER BY event_time) AS next_viewed_product_id,\n",
    "        user_session,\n",
    "        event_time\n",
    "FROM product_view_tbl\n",
    "WHERE user_id = '518269232'\"\"\").df()\n",
    "\n",
    "edge_list = [[x[0], x[1]] for x in sub_graph[['product_id', 'next_viewed_product_id']].to_numpy()]\n",
    "G = nx.Graph()\n",
    "G.add_edges_from(edge_list)\n",
    "\n",
    "nx.draw(G, with_labels=True)\n",
    "plt.show()\n"
   ]
  },
  {
   "cell_type": "code",
   "execution_count": 12,
   "id": "07395eb8",
   "metadata": {},
   "outputs": [
    {
     "name": "stdout",
     "output_type": "stream",
     "text": [
      "CPU times: user 6min 11s, sys: 1min 3s, total: 7min 15s\n",
      "Wall time: 43.1 s\n"
     ]
    },
    {
     "data": {
      "text/html": [
       "<div>\n",
       "<style scoped>\n",
       "    .dataframe tbody tr th:only-of-type {\n",
       "        vertical-align: middle;\n",
       "    }\n",
       "\n",
       "    .dataframe tbody tr th {\n",
       "        vertical-align: top;\n",
       "    }\n",
       "\n",
       "    .dataframe thead th {\n",
       "        text-align: right;\n",
       "    }\n",
       "</style>\n",
       "<table border=\"1\" class=\"dataframe\">\n",
       "  <thead>\n",
       "    <tr style=\"text-align: right;\">\n",
       "      <th></th>\n",
       "      <th>Count</th>\n",
       "    </tr>\n",
       "  </thead>\n",
       "  <tbody>\n",
       "    <tr>\n",
       "      <th>0</th>\n",
       "      <td>43408767</td>\n",
       "    </tr>\n",
       "  </tbody>\n",
       "</table>\n",
       "</div>"
      ],
      "text/plain": [
       "      Count\n",
       "0  43408767"
      ]
     },
     "execution_count": 12,
     "metadata": {},
     "output_type": "execute_result"
    }
   ],
   "source": [
    "%%time\n",
    "con.execute(\"\"\"CREATE TABLE product_views_graph AS select product_id, \n",
    "LEAD(product_id, 1, -1) OVER (PARTITION BY user_session ORDER BY event_time) as next_viewed_product_id,\n",
    "user_session,\n",
    "event_time\n",
    "from product_view_tbl\n",
    "\"\"\").df()"
   ]
  },
  {
   "cell_type": "code",
   "execution_count": 13,
   "id": "a4a7ed99",
   "metadata": {},
   "outputs": [
    {
     "data": {
      "text/html": [
       "<div>\n",
       "<style scoped>\n",
       "    .dataframe tbody tr th:only-of-type {\n",
       "        vertical-align: middle;\n",
       "    }\n",
       "\n",
       "    .dataframe tbody tr th {\n",
       "        vertical-align: top;\n",
       "    }\n",
       "\n",
       "    .dataframe thead th {\n",
       "        text-align: right;\n",
       "    }\n",
       "</style>\n",
       "<table border=\"1\" class=\"dataframe\">\n",
       "  <thead>\n",
       "    <tr style=\"text-align: right;\">\n",
       "      <th></th>\n",
       "      <th>product_id</th>\n",
       "      <th>next_viewed_product_id</th>\n",
       "      <th>user_session</th>\n",
       "      <th>event_time</th>\n",
       "    </tr>\n",
       "  </thead>\n",
       "  <tbody>\n",
       "    <tr>\n",
       "      <th>0</th>\n",
       "      <td>5000427</td>\n",
       "      <td>5000583</td>\n",
       "      <td>000fe336-1fc8-446e-bb12-e7f8bd0c9c58</td>\n",
       "      <td>2020-01-17 05:14:35</td>\n",
       "    </tr>\n",
       "    <tr>\n",
       "      <th>1</th>\n",
       "      <td>5000583</td>\n",
       "      <td>5000427</td>\n",
       "      <td>000fe336-1fc8-446e-bb12-e7f8bd0c9c58</td>\n",
       "      <td>2020-01-17 05:15:07</td>\n",
       "    </tr>\n",
       "    <tr>\n",
       "      <th>2</th>\n",
       "      <td>5000427</td>\n",
       "      <td>5000427</td>\n",
       "      <td>000fe336-1fc8-446e-bb12-e7f8bd0c9c58</td>\n",
       "      <td>2020-01-17 05:15:19</td>\n",
       "    </tr>\n",
       "    <tr>\n",
       "      <th>3</th>\n",
       "      <td>5000427</td>\n",
       "      <td>26021255</td>\n",
       "      <td>000fe336-1fc8-446e-bb12-e7f8bd0c9c58</td>\n",
       "      <td>2020-01-17 05:16:25</td>\n",
       "    </tr>\n",
       "    <tr>\n",
       "      <th>4</th>\n",
       "      <td>26021255</td>\n",
       "      <td>26016163</td>\n",
       "      <td>000fe336-1fc8-446e-bb12-e7f8bd0c9c58</td>\n",
       "      <td>2020-01-17 05:19:53</td>\n",
       "    </tr>\n",
       "    <tr>\n",
       "      <th>5</th>\n",
       "      <td>26016163</td>\n",
       "      <td>26016163</td>\n",
       "      <td>000fe336-1fc8-446e-bb12-e7f8bd0c9c58</td>\n",
       "      <td>2020-01-17 05:21:39</td>\n",
       "    </tr>\n",
       "    <tr>\n",
       "      <th>6</th>\n",
       "      <td>26016163</td>\n",
       "      <td>26016163</td>\n",
       "      <td>000fe336-1fc8-446e-bb12-e7f8bd0c9c58</td>\n",
       "      <td>2020-01-17 05:23:03</td>\n",
       "    </tr>\n",
       "    <tr>\n",
       "      <th>7</th>\n",
       "      <td>26016163</td>\n",
       "      <td>26000276</td>\n",
       "      <td>000fe336-1fc8-446e-bb12-e7f8bd0c9c58</td>\n",
       "      <td>2020-01-17 05:23:10</td>\n",
       "    </tr>\n",
       "    <tr>\n",
       "      <th>8</th>\n",
       "      <td>26000276</td>\n",
       "      <td>26026427</td>\n",
       "      <td>000fe336-1fc8-446e-bb12-e7f8bd0c9c58</td>\n",
       "      <td>2020-01-17 05:25:31</td>\n",
       "    </tr>\n",
       "    <tr>\n",
       "      <th>9</th>\n",
       "      <td>26026427</td>\n",
       "      <td>100074135</td>\n",
       "      <td>000fe336-1fc8-446e-bb12-e7f8bd0c9c58</td>\n",
       "      <td>2020-01-17 05:26:35</td>\n",
       "    </tr>\n",
       "    <tr>\n",
       "      <th>10</th>\n",
       "      <td>100074135</td>\n",
       "      <td>26026427</td>\n",
       "      <td>000fe336-1fc8-446e-bb12-e7f8bd0c9c58</td>\n",
       "      <td>2020-01-17 05:27:18</td>\n",
       "    </tr>\n",
       "    <tr>\n",
       "      <th>11</th>\n",
       "      <td>26026427</td>\n",
       "      <td>-1</td>\n",
       "      <td>000fe336-1fc8-446e-bb12-e7f8bd0c9c58</td>\n",
       "      <td>2020-01-17 05:27:50</td>\n",
       "    </tr>\n",
       "    <tr>\n",
       "      <th>12</th>\n",
       "      <td>3700926</td>\n",
       "      <td>3701387</td>\n",
       "      <td>001f327e-1dc7-40dc-868d-3b648905f845</td>\n",
       "      <td>2020-01-03 18:38:22</td>\n",
       "    </tr>\n",
       "    <tr>\n",
       "      <th>13</th>\n",
       "      <td>3701387</td>\n",
       "      <td>3700781</td>\n",
       "      <td>001f327e-1dc7-40dc-868d-3b648905f845</td>\n",
       "      <td>2020-01-03 18:39:19</td>\n",
       "    </tr>\n",
       "    <tr>\n",
       "      <th>14</th>\n",
       "      <td>3700781</td>\n",
       "      <td>100017448</td>\n",
       "      <td>001f327e-1dc7-40dc-868d-3b648905f845</td>\n",
       "      <td>2020-01-03 18:40:05</td>\n",
       "    </tr>\n",
       "  </tbody>\n",
       "</table>\n",
       "</div>"
      ],
      "text/plain": [
       "    product_id  next_viewed_product_id                          user_session  \\\n",
       "0      5000427                 5000583  000fe336-1fc8-446e-bb12-e7f8bd0c9c58   \n",
       "1      5000583                 5000427  000fe336-1fc8-446e-bb12-e7f8bd0c9c58   \n",
       "2      5000427                 5000427  000fe336-1fc8-446e-bb12-e7f8bd0c9c58   \n",
       "3      5000427                26021255  000fe336-1fc8-446e-bb12-e7f8bd0c9c58   \n",
       "4     26021255                26016163  000fe336-1fc8-446e-bb12-e7f8bd0c9c58   \n",
       "5     26016163                26016163  000fe336-1fc8-446e-bb12-e7f8bd0c9c58   \n",
       "6     26016163                26016163  000fe336-1fc8-446e-bb12-e7f8bd0c9c58   \n",
       "7     26016163                26000276  000fe336-1fc8-446e-bb12-e7f8bd0c9c58   \n",
       "8     26000276                26026427  000fe336-1fc8-446e-bb12-e7f8bd0c9c58   \n",
       "9     26026427               100074135  000fe336-1fc8-446e-bb12-e7f8bd0c9c58   \n",
       "10   100074135                26026427  000fe336-1fc8-446e-bb12-e7f8bd0c9c58   \n",
       "11    26026427                      -1  000fe336-1fc8-446e-bb12-e7f8bd0c9c58   \n",
       "12     3700926                 3701387  001f327e-1dc7-40dc-868d-3b648905f845   \n",
       "13     3701387                 3700781  001f327e-1dc7-40dc-868d-3b648905f845   \n",
       "14     3700781               100017448  001f327e-1dc7-40dc-868d-3b648905f845   \n",
       "\n",
       "            event_time  \n",
       "0  2020-01-17 05:14:35  \n",
       "1  2020-01-17 05:15:07  \n",
       "2  2020-01-17 05:15:19  \n",
       "3  2020-01-17 05:16:25  \n",
       "4  2020-01-17 05:19:53  \n",
       "5  2020-01-17 05:21:39  \n",
       "6  2020-01-17 05:23:03  \n",
       "7  2020-01-17 05:23:10  \n",
       "8  2020-01-17 05:25:31  \n",
       "9  2020-01-17 05:26:35  \n",
       "10 2020-01-17 05:27:18  \n",
       "11 2020-01-17 05:27:50  \n",
       "12 2020-01-03 18:38:22  \n",
       "13 2020-01-03 18:39:19  \n",
       "14 2020-01-03 18:40:05  "
      ]
     },
     "execution_count": 13,
     "metadata": {},
     "output_type": "execute_result"
    }
   ],
   "source": [
    "con.query(\"\"\"SELECT * FROM product_views_graph LIMIT 15\"\"\").df()"
   ]
  },
  {
   "cell_type": "markdown",
   "id": "1f4ac38b",
   "metadata": {},
   "source": [
    "### COUNT of Cases: Refresh on Same Product Page"
   ]
  },
  {
   "cell_type": "code",
   "execution_count": 31,
   "id": "03dac1da",
   "metadata": {},
   "outputs": [
    {
     "data": {
      "text/html": [
       "<div>\n",
       "<style scoped>\n",
       "    .dataframe tbody tr th:only-of-type {\n",
       "        vertical-align: middle;\n",
       "    }\n",
       "\n",
       "    .dataframe tbody tr th {\n",
       "        vertical-align: top;\n",
       "    }\n",
       "\n",
       "    .dataframe thead th {\n",
       "        text-align: right;\n",
       "    }\n",
       "</style>\n",
       "<table border=\"1\" class=\"dataframe\">\n",
       "  <thead>\n",
       "    <tr style=\"text-align: right;\">\n",
       "      <th></th>\n",
       "      <th>page_refresh_count</th>\n",
       "    </tr>\n",
       "  </thead>\n",
       "  <tbody>\n",
       "    <tr>\n",
       "      <th>0</th>\n",
       "      <td>12181069</td>\n",
       "    </tr>\n",
       "  </tbody>\n",
       "</table>\n",
       "</div>"
      ],
      "text/plain": [
       "   page_refresh_count\n",
       "0            12181069"
      ]
     },
     "execution_count": 31,
     "metadata": {},
     "output_type": "execute_result"
    }
   ],
   "source": [
    "con.query(\"\"\"SELECT COUNT(*) as page_refresh_count FROM product_views_graph \n",
    "WHERE product_id=next_viewed_product_id\"\"\").df()"
   ]
  },
  {
   "cell_type": "code",
   "execution_count": 15,
   "id": "fdf3e82c",
   "metadata": {},
   "outputs": [
    {
     "name": "stdout",
     "output_type": "stream",
     "text": [
      "CPU times: user 509 ms, sys: 125 ms, total: 634 ms\n",
      "Wall time: 631 ms\n"
     ]
    }
   ],
   "source": [
    "# Constructing a directed graph excluding self-loops and invalid edges\n",
    "\n",
    "%%time\n",
    "# Directed Graph Query\n",
    "directed_graph = con.execute(\"\"\"SELECT product_id AS pid_1,\n",
    "       next_viewed_product_id AS pid_2\n",
    "FROM product_views_graph\n",
    "WHERE product_id!=next_viewed_product_id\n",
    "  AND next_viewed_product_id<>-1\n",
    "\"\"\").df()"
   ]
  },
  {
   "cell_type": "code",
   "execution_count": 16,
   "id": "7eacc6ef",
   "metadata": {},
   "outputs": [
    {
     "data": {
      "text/plain": [
       "25887583"
      ]
     },
     "execution_count": 16,
     "metadata": {},
     "output_type": "execute_result"
    }
   ],
   "source": [
    "len(directed_graph)"
   ]
  },
  {
   "cell_type": "code",
   "execution_count": 17,
   "id": "6c61c499",
   "metadata": {},
   "outputs": [],
   "source": [
    "# Saving the directed graph to a parquet file\n",
    "\n",
    "directed_graph.to_parquet('../Data/ConstructedGraph/raw_unweighted_directed_product_views_graph.parquet',index=False)"
   ]
  },
  {
   "cell_type": "code",
   "execution_count": 32,
   "id": "8f7b7a9d",
   "metadata": {},
   "outputs": [
    {
     "data": {
      "text/html": [
       "<div>\n",
       "<style scoped>\n",
       "    .dataframe tbody tr th:only-of-type {\n",
       "        vertical-align: middle;\n",
       "    }\n",
       "\n",
       "    .dataframe tbody tr th {\n",
       "        vertical-align: top;\n",
       "    }\n",
       "\n",
       "    .dataframe thead th {\n",
       "        text-align: right;\n",
       "    }\n",
       "</style>\n",
       "<table border=\"1\" class=\"dataframe\">\n",
       "  <thead>\n",
       "    <tr style=\"text-align: right;\">\n",
       "      <th></th>\n",
       "      <th>pid_1</th>\n",
       "      <th>pid_2</th>\n",
       "    </tr>\n",
       "  </thead>\n",
       "  <tbody>\n",
       "    <tr>\n",
       "      <th>0</th>\n",
       "      <td>5000427</td>\n",
       "      <td>5000583</td>\n",
       "    </tr>\n",
       "    <tr>\n",
       "      <th>1</th>\n",
       "      <td>5000583</td>\n",
       "      <td>5000427</td>\n",
       "    </tr>\n",
       "    <tr>\n",
       "      <th>2</th>\n",
       "      <td>5000427</td>\n",
       "      <td>26021255</td>\n",
       "    </tr>\n",
       "    <tr>\n",
       "      <th>3</th>\n",
       "      <td>26021255</td>\n",
       "      <td>26016163</td>\n",
       "    </tr>\n",
       "    <tr>\n",
       "      <th>4</th>\n",
       "      <td>26016163</td>\n",
       "      <td>26000276</td>\n",
       "    </tr>\n",
       "    <tr>\n",
       "      <th>...</th>\n",
       "      <td>...</td>\n",
       "      <td>...</td>\n",
       "    </tr>\n",
       "    <tr>\n",
       "      <th>25887578</th>\n",
       "      <td>26203856</td>\n",
       "      <td>26200308</td>\n",
       "    </tr>\n",
       "    <tr>\n",
       "      <th>25887579</th>\n",
       "      <td>26200308</td>\n",
       "      <td>26201813</td>\n",
       "    </tr>\n",
       "    <tr>\n",
       "      <th>25887580</th>\n",
       "      <td>5100376</td>\n",
       "      <td>5100846</td>\n",
       "    </tr>\n",
       "    <tr>\n",
       "      <th>25887581</th>\n",
       "      <td>5100846</td>\n",
       "      <td>1005160</td>\n",
       "    </tr>\n",
       "    <tr>\n",
       "      <th>25887582</th>\n",
       "      <td>1005160</td>\n",
       "      <td>1005264</td>\n",
       "    </tr>\n",
       "  </tbody>\n",
       "</table>\n",
       "<p>25887583 rows × 2 columns</p>\n",
       "</div>"
      ],
      "text/plain": [
       "             pid_1     pid_2\n",
       "0          5000427   5000583\n",
       "1          5000583   5000427\n",
       "2          5000427  26021255\n",
       "3         26021255  26016163\n",
       "4         26016163  26000276\n",
       "...            ...       ...\n",
       "25887578  26203856  26200308\n",
       "25887579  26200308  26201813\n",
       "25887580   5100376   5100846\n",
       "25887581   5100846   1005160\n",
       "25887582   1005160   1005264\n",
       "\n",
       "[25887583 rows x 2 columns]"
      ]
     },
     "execution_count": 32,
     "metadata": {},
     "output_type": "execute_result"
    }
   ],
   "source": [
    "directed_graph"
   ]
  },
  {
   "cell_type": "markdown",
   "id": "1b282125",
   "metadata": {},
   "source": [
    "### Directed_Weighted_Product View Graph"
   ]
  },
  {
   "cell_type": "code",
   "execution_count": 18,
   "id": "5a059981",
   "metadata": {},
   "outputs": [
    {
     "name": "stdout",
     "output_type": "stream",
     "text": [
      "CPU times: user 9.3 s, sys: 948 ms, total: 10.3 s\n",
      "Wall time: 1.35 s\n"
     ]
    }
   ],
   "source": [
    "# Constructing a directed-weighted graph\n",
    "\n",
    "\n",
    "%%time\n",
    "directed_weighted_graph = con.execute(\"\"\"\n",
    "SELECT product_id AS pid_1,\n",
    "       next_viewed_product_id AS pid_2,\n",
    "       COUNT(*) AS occurence_ct\n",
    "FROM product_views_graph\n",
    "WHERE next_viewed_product_id<>-1\n",
    "  AND product_id IS NOT NULL\n",
    "  AND product_id != next_viewed_product_id\n",
    "GROUP BY 1,\n",
    "         2\n",
    "\"\"\").df()"
   ]
  },
  {
   "cell_type": "code",
   "execution_count": 19,
   "id": "fbd739ec",
   "metadata": {},
   "outputs": [
    {
     "data": {
      "text/html": [
       "<div>\n",
       "<style scoped>\n",
       "    .dataframe tbody tr th:only-of-type {\n",
       "        vertical-align: middle;\n",
       "    }\n",
       "\n",
       "    .dataframe tbody tr th {\n",
       "        vertical-align: top;\n",
       "    }\n",
       "\n",
       "    .dataframe thead th {\n",
       "        text-align: right;\n",
       "    }\n",
       "</style>\n",
       "<table border=\"1\" class=\"dataframe\">\n",
       "  <thead>\n",
       "    <tr style=\"text-align: right;\">\n",
       "      <th></th>\n",
       "      <th>pid_1</th>\n",
       "      <th>pid_2</th>\n",
       "      <th>occurence_ct</th>\n",
       "    </tr>\n",
       "  </thead>\n",
       "  <tbody>\n",
       "    <tr>\n",
       "      <th>0</th>\n",
       "      <td>1201460</td>\n",
       "      <td>1201389</td>\n",
       "      <td>326</td>\n",
       "    </tr>\n",
       "    <tr>\n",
       "      <th>1</th>\n",
       "      <td>100008228</td>\n",
       "      <td>1005135</td>\n",
       "      <td>1</td>\n",
       "    </tr>\n",
       "    <tr>\n",
       "      <th>2</th>\n",
       "      <td>13200941</td>\n",
       "      <td>13201188</td>\n",
       "      <td>13</td>\n",
       "    </tr>\n",
       "    <tr>\n",
       "      <th>3</th>\n",
       "      <td>1801551</td>\n",
       "      <td>1801636</td>\n",
       "      <td>478</td>\n",
       "    </tr>\n",
       "    <tr>\n",
       "      <th>4</th>\n",
       "      <td>1801636</td>\n",
       "      <td>1801881</td>\n",
       "      <td>390</td>\n",
       "    </tr>\n",
       "    <tr>\n",
       "      <th>...</th>\n",
       "      <td>...</td>\n",
       "      <td>...</td>\n",
       "      <td>...</td>\n",
       "    </tr>\n",
       "    <tr>\n",
       "      <th>8418450</th>\n",
       "      <td>6000092</td>\n",
       "      <td>6000197</td>\n",
       "      <td>1</td>\n",
       "    </tr>\n",
       "    <tr>\n",
       "      <th>8418451</th>\n",
       "      <td>6700941</td>\n",
       "      <td>6700915</td>\n",
       "      <td>1</td>\n",
       "    </tr>\n",
       "    <tr>\n",
       "      <th>8418452</th>\n",
       "      <td>1004158</td>\n",
       "      <td>15200354</td>\n",
       "      <td>1</td>\n",
       "    </tr>\n",
       "    <tr>\n",
       "      <th>8418453</th>\n",
       "      <td>100029639</td>\n",
       "      <td>4700629</td>\n",
       "      <td>1</td>\n",
       "    </tr>\n",
       "    <tr>\n",
       "      <th>8418454</th>\n",
       "      <td>26600090</td>\n",
       "      <td>100061853</td>\n",
       "      <td>1</td>\n",
       "    </tr>\n",
       "  </tbody>\n",
       "</table>\n",
       "<p>8418455 rows × 3 columns</p>\n",
       "</div>"
      ],
      "text/plain": [
       "             pid_1      pid_2  occurence_ct\n",
       "0          1201460    1201389           326\n",
       "1        100008228    1005135             1\n",
       "2         13200941   13201188            13\n",
       "3          1801551    1801636           478\n",
       "4          1801636    1801881           390\n",
       "...            ...        ...           ...\n",
       "8418450    6000092    6000197             1\n",
       "8418451    6700941    6700915             1\n",
       "8418452    1004158   15200354             1\n",
       "8418453  100029639    4700629             1\n",
       "8418454   26600090  100061853             1\n",
       "\n",
       "[8418455 rows x 3 columns]"
      ]
     },
     "execution_count": 19,
     "metadata": {},
     "output_type": "execute_result"
    }
   ],
   "source": [
    "directed_weighted_graph"
   ]
  },
  {
   "cell_type": "code",
   "execution_count": 20,
   "id": "3f8ed418",
   "metadata": {},
   "outputs": [],
   "source": [
    "directed_weighted_graph.to_parquet('../Data/ConstructedGraph/directed_weighted_product_views_graph.parquet',index=False)"
   ]
  },
  {
   "cell_type": "markdown",
   "id": "9719a37c",
   "metadata": {},
   "source": [
    "### Undirected Weighted Product View Graph"
   ]
  },
  {
   "cell_type": "code",
   "execution_count": 21,
   "id": "4f601e70",
   "metadata": {},
   "outputs": [
    {
     "name": "stdout",
     "output_type": "stream",
     "text": [
      "CPU times: user 9.1 s, sys: 816 ms, total: 9.91 s\n",
      "Wall time: 1.22 s\n"
     ]
    }
   ],
   "source": [
    "# Constructing an undirected-weighted graph\n",
    "\n",
    "%%time\n",
    "undirected_weighted_graph = con.execute(\"\"\"\n",
    "SELECT CASE\n",
    "           WHEN product_id > next_viewed_product_id THEN product_id\n",
    "           ELSE next_viewed_product_id\n",
    "       END AS pid_1,\n",
    "       CASE\n",
    "           WHEN product_id < next_viewed_product_id THEN product_id\n",
    "           ELSE next_viewed_product_id\n",
    "       END AS pid_2,\n",
    "       COUNT(*) AS occurence_ct\n",
    "FROM product_views_graph\n",
    "WHERE next_viewed_product_id<>-1\n",
    "  AND product_id IS NOT NULL\n",
    "  AND product_id != next_viewed_product_id\n",
    "GROUP BY 1,\n",
    "         2\n",
    "\"\"\").df()"
   ]
  },
  {
   "cell_type": "code",
   "execution_count": 22,
   "id": "963be25e",
   "metadata": {},
   "outputs": [
    {
     "data": {
      "text/html": [
       "<div>\n",
       "<style scoped>\n",
       "    .dataframe tbody tr th:only-of-type {\n",
       "        vertical-align: middle;\n",
       "    }\n",
       "\n",
       "    .dataframe tbody tr th {\n",
       "        vertical-align: top;\n",
       "    }\n",
       "\n",
       "    .dataframe thead th {\n",
       "        text-align: right;\n",
       "    }\n",
       "</style>\n",
       "<table border=\"1\" class=\"dataframe\">\n",
       "  <thead>\n",
       "    <tr style=\"text-align: right;\">\n",
       "      <th></th>\n",
       "      <th>pid_1</th>\n",
       "      <th>pid_2</th>\n",
       "      <th>occurence_ct</th>\n",
       "    </tr>\n",
       "  </thead>\n",
       "  <tbody>\n",
       "    <tr>\n",
       "      <th>0</th>\n",
       "      <td>2602240</td>\n",
       "      <td>2601962</td>\n",
       "      <td>3</td>\n",
       "    </tr>\n",
       "    <tr>\n",
       "      <th>1</th>\n",
       "      <td>12711147</td>\n",
       "      <td>5801656</td>\n",
       "      <td>3</td>\n",
       "    </tr>\n",
       "    <tr>\n",
       "      <th>2</th>\n",
       "      <td>7203361</td>\n",
       "      <td>7202724</td>\n",
       "      <td>2</td>\n",
       "    </tr>\n",
       "    <tr>\n",
       "      <th>3</th>\n",
       "      <td>12717857</td>\n",
       "      <td>12709938</td>\n",
       "      <td>1</td>\n",
       "    </tr>\n",
       "    <tr>\n",
       "      <th>4</th>\n",
       "      <td>12720579</td>\n",
       "      <td>12706441</td>\n",
       "      <td>1</td>\n",
       "    </tr>\n",
       "    <tr>\n",
       "      <th>...</th>\n",
       "      <td>...</td>\n",
       "      <td>...</td>\n",
       "      <td>...</td>\n",
       "    </tr>\n",
       "    <tr>\n",
       "      <th>6846587</th>\n",
       "      <td>7101405</td>\n",
       "      <td>7101347</td>\n",
       "      <td>1</td>\n",
       "    </tr>\n",
       "    <tr>\n",
       "      <th>6846588</th>\n",
       "      <td>100073697</td>\n",
       "      <td>100073489</td>\n",
       "      <td>1</td>\n",
       "    </tr>\n",
       "    <tr>\n",
       "      <th>6846589</th>\n",
       "      <td>13300078</td>\n",
       "      <td>12000164</td>\n",
       "      <td>1</td>\n",
       "    </tr>\n",
       "    <tr>\n",
       "      <th>6846590</th>\n",
       "      <td>100057594</td>\n",
       "      <td>12600093</td>\n",
       "      <td>1</td>\n",
       "    </tr>\n",
       "    <tr>\n",
       "      <th>6846591</th>\n",
       "      <td>100082567</td>\n",
       "      <td>100033410</td>\n",
       "      <td>1</td>\n",
       "    </tr>\n",
       "  </tbody>\n",
       "</table>\n",
       "<p>6846592 rows × 3 columns</p>\n",
       "</div>"
      ],
      "text/plain": [
       "             pid_1      pid_2  occurence_ct\n",
       "0          2602240    2601962             3\n",
       "1         12711147    5801656             3\n",
       "2          7203361    7202724             2\n",
       "3         12717857   12709938             1\n",
       "4         12720579   12706441             1\n",
       "...            ...        ...           ...\n",
       "6846587    7101405    7101347             1\n",
       "6846588  100073697  100073489             1\n",
       "6846589   13300078   12000164             1\n",
       "6846590  100057594   12600093             1\n",
       "6846591  100082567  100033410             1\n",
       "\n",
       "[6846592 rows x 3 columns]"
      ]
     },
     "execution_count": 22,
     "metadata": {},
     "output_type": "execute_result"
    }
   ],
   "source": [
    "undirected_weighted_graph"
   ]
  },
  {
   "cell_type": "code",
   "execution_count": 23,
   "id": "198d75b7",
   "metadata": {},
   "outputs": [],
   "source": [
    "undirected_weighted_graph.to_parquet('../Data/ConstructedGraph/undirected_weighted_product_views_graph.parquet',index=False)"
   ]
  }
 ],
 "metadata": {
  "kernelspec": {
   "display_name": "Python 3",
   "language": "python",
   "name": "python3"
  },
  "language_info": {
   "codemirror_mode": {
    "name": "ipython",
    "version": 3
   },
   "file_extension": ".py",
   "mimetype": "text/x-python",
   "name": "python",
   "nbconvert_exporter": "python",
   "pygments_lexer": "ipython3",
   "version": "3.11.3"
  }
 },
 "nbformat": 4,
 "nbformat_minor": 5
}

{
  "cells": [
    {
      "cell_type": "code",
      "execution_count": 2,
      "id": "0c005b0e",
      "metadata": {
        "colab": {
          "base_uri": "https://localhost:8080/"
        },
        "id": "0c005b0e",
        "outputId": "7ef2ba29-11ab-4dc8-a6dd-7d206fc8da02"
      },
      "outputs": [
        {
          "name": "stdout",
          "output_type": "stream",
          "text": [
            "Collecting faiss-cpu\n",
            "  Downloading faiss_cpu-1.7.2-cp37-cp37m-manylinux_2_17_x86_64.manylinux2014_x86_64.whl (8.6 MB)\n",
            "\u001b[K     |████████████████████████████████| 8.6 MB 1.9 MB/s \n",
            "\u001b[?25hInstalling collected packages: faiss-cpu\n",
            "Successfully installed faiss-cpu-1.7.2\n"
          ]
        }
      ],
      "source": [
        "# Installing FAISS for efficient similarity search\n",
        "\n",
        "!pip install faiss-cpu --no-cache"
      ]
    },
    {
      "cell_type": "markdown",
      "id": "f7ab5136",
      "metadata": {
        "id": "f7ab5136"
      },
      "source": [
        "## FAISS - ANN (Approximate Nearest Neighbours)"
      ]
    },
    {
      "cell_type": "code",
      "execution_count": 5,
      "id": "602ce28b",
      "metadata": {
        "id": "602ce28b"
      },
      "outputs": [],
      "source": [
        "\n",
        "import pandas as pd\n",
        "import numpy as np\n",
        "from tqdm import tqdm\n",
        "from joblib import Parallel, delayed\n",
        "from Constants import Constants\n",
        "\n",
        "GRAPH_FILE_NAME = Constants.GRAPH_FILE_NAME.value\n",
        "\n",
        "df_node2vec = pd.read_parquet('../Data/Embedding_Data/node2vec_embedding_df_{}.parquet'.format(GRAPH_FILE_NAME.split('.')[0]))\n",
        "df_node2vec.columns = ['product_id', 'embedding_vector']\n",
        "\n",
        "df_full = pd.read_parquet('../Data/optimised_raw_data.parquet').drop_duplicates(subset=['product_id'])\n",
        "df_full = df_full[['product_id', 'category_code']]\n",
        "\n",
        "df_node2vec = df_node2vec.merge(df_full, how='left', on='product_id')"
      ]
    },
    {
      "cell_type": "code",
      "execution_count": 6,
      "id": "8d4511ee",
      "metadata": {
        "id": "8d4511ee"
      },
      "outputs": [],
      "source": [
        "xb = np.array(df_node2vec.embedding_vector.tolist())"
      ]
    },
    {
      "cell_type": "code",
      "execution_count": 7,
      "id": "d4f5cd22",
      "metadata": {
        "colab": {
          "base_uri": "https://localhost:8080/"
        },
        "id": "d4f5cd22",
        "outputId": "bbfcc27f-1cad-431e-efc9-fbaa594541d1"
      },
      "outputs": [
        {
          "data": {
            "text/plain": [
              "(211861, 128)"
            ]
          },
          "execution_count": 7,
          "metadata": {},
          "output_type": "execute_result"
        }
      ],
      "source": [
        "xb.shape"
      ]
    },
    {
      "cell_type": "code",
      "execution_count": 8,
      "id": "30adf4fe",
      "metadata": {
        "colab": {
          "base_uri": "https://localhost:8080/"
        },
        "id": "30adf4fe",
        "outputId": "43777b4c-6bb8-4050-99f2-cd19b9bbd7f1"
      },
      "outputs": [
        {
          "name": "stdout",
          "output_type": "stream",
          "text": [
            "True\n",
            "211861\n"
          ]
        }
      ],
      "source": [
        "# Initializing and training a FAISS index with L2 distance metric\n",
        "\n",
        "\n",
        "import faiss                  \n",
        "index = faiss.IndexFlatL2(128)   \n",
        "print(index.is_trained)\n",
        "index.add(xb)                \n",
        "print(index.ntotal)"
      ]
    },
    {
      "cell_type": "code",
      "execution_count": 9,
      "id": "fe820d96",
      "metadata": {
        "colab": {
          "base_uri": "https://localhost:8080/"
        },
        "id": "fe820d96",
        "outputId": "669d22aa-bd93-4653-fb46-d9ee00057d5f"
      },
      "outputs": [
        {
          "data": {
            "text/plain": [
              "array([[     0, 211448,     10, ..., 211705,      8,    460],\n",
              "       [     1, 211484, 210977, ...,    733, 152873,    734],\n",
              "       [     2, 211072,    942, ..., 211434, 211068, 179393],\n",
              "       ...,\n",
              "       [  4997,   3874,   5066, ...,   5100,   5705,   4324],\n",
              "       [  4998,   6100, 179616, ..., 178522, 177862, 179103],\n",
              "       [  4999,   5001,   3977, ...,   4317,   4661,   4663]])"
            ]
          },
          "execution_count": 9,
          "metadata": {},
          "output_type": "execute_result"
        }
      ],
      "source": [
        "# Performing a similarity search for the first 5000 products\n",
        "\n",
        "k = 10                         \n",
        "D, I = index.search(xb[:5000], k) \n",
        "I"
      ]
    },
    {
      "cell_type": "code",
      "execution_count": 10,
      "id": "49edec96",
      "metadata": {
        "colab": {
          "base_uri": "https://localhost:8080/",
          "height": 363
        },
        "id": "49edec96",
        "outputId": "1286b821-25e5-4511-f48e-49a128dafe31"
      },
      "outputs": [
        {
          "data": {
            "text/html": [
              "\n",
              "  <div id=\"df-15407572-f5d6-45c1-90ea-3c7d78855eaf\">\n",
              "    <div class=\"colab-df-container\">\n",
              "      <div>\n",
              "<style scoped>\n",
              "    .dataframe tbody tr th:only-of-type {\n",
              "        vertical-align: middle;\n",
              "    }\n",
              "\n",
              "    .dataframe tbody tr th {\n",
              "        vertical-align: top;\n",
              "    }\n",
              "\n",
              "    .dataframe thead th {\n",
              "        text-align: right;\n",
              "    }\n",
              "</style>\n",
              "<table border=\"1\" class=\"dataframe\">\n",
              "  <thead>\n",
              "    <tr style=\"text-align: right;\">\n",
              "      <th></th>\n",
              "      <th>product_id</th>\n",
              "      <th>embedding_vector</th>\n",
              "      <th>category_code</th>\n",
              "    </tr>\n",
              "  </thead>\n",
              "  <tbody>\n",
              "    <tr>\n",
              "      <th>3948</th>\n",
              "      <td>10500709</td>\n",
              "      <td>[0.7503771, -0.18183377, 0.16479845, -0.100275...</td>\n",
              "      <td>kids.toys</td>\n",
              "    </tr>\n",
              "    <tr>\n",
              "      <th>3994</th>\n",
              "      <td>10500914</td>\n",
              "      <td>[0.45275557, 0.2702926, -0.07311262, -0.314343...</td>\n",
              "      <td>kids.toys</td>\n",
              "    </tr>\n",
              "    <tr>\n",
              "      <th>4146</th>\n",
              "      <td>10501504</td>\n",
              "      <td>[0.5677568, 0.52260596, 0.034401912, -0.361972...</td>\n",
              "      <td>kids.toys</td>\n",
              "    </tr>\n",
              "    <tr>\n",
              "      <th>4285</th>\n",
              "      <td>10501901</td>\n",
              "      <td>[0.64030284, 0.2345686, -0.061874636, -0.25763...</td>\n",
              "      <td>kids.toys</td>\n",
              "    </tr>\n",
              "    <tr>\n",
              "      <th>4321</th>\n",
              "      <td>10502004</td>\n",
              "      <td>[0.87546676, -0.17221348, -0.03916068, -0.1922...</td>\n",
              "      <td>kids.toys</td>\n",
              "    </tr>\n",
              "    <tr>\n",
              "      <th>15542</th>\n",
              "      <td>44100021</td>\n",
              "      <td>[0.8373087, 0.0653706, -0.26724932, -0.17449, ...</td>\n",
              "      <td>None</td>\n",
              "    </tr>\n",
              "    <tr>\n",
              "      <th>131691</th>\n",
              "      <td>100021262</td>\n",
              "      <td>[0.9261285, -0.060547136, -0.27329034, -0.1380...</td>\n",
              "      <td>None</td>\n",
              "    </tr>\n",
              "    <tr>\n",
              "      <th>143311</th>\n",
              "      <td>100036427</td>\n",
              "      <td>[0.76979965, 0.5984715, -0.10999734, -0.332528...</td>\n",
              "      <td>kids.toys</td>\n",
              "    </tr>\n",
              "    <tr>\n",
              "      <th>143313</th>\n",
              "      <td>100036434</td>\n",
              "      <td>[0.81136036, 0.38808438, -0.23255286, -0.30186...</td>\n",
              "      <td>kids.toys</td>\n",
              "    </tr>\n",
              "    <tr>\n",
              "      <th>143314</th>\n",
              "      <td>100036436</td>\n",
              "      <td>[0.7408471, 0.3930096, -0.18140738, -0.3619474...</td>\n",
              "      <td>kids.toys</td>\n",
              "    </tr>\n",
              "  </tbody>\n",
              "</table>\n",
              "</div>\n",
              "      <button class=\"colab-df-convert\" onclick=\"convertToInteractive('df-15407572-f5d6-45c1-90ea-3c7d78855eaf')\"\n",
              "              title=\"Convert this dataframe to an interactive table.\"\n",
              "              style=\"display:none;\">\n",
              "        \n",
              "  <svg xmlns=\"http://www.w3.org/2000/svg\" height=\"24px\"viewBox=\"0 0 24 24\"\n",
              "       width=\"24px\">\n",
              "    <path d=\"M0 0h24v24H0V0z\" fill=\"none\"/>\n",
              "    <path d=\"M18.56 5.44l.94 2.06.94-2.06 2.06-.94-2.06-.94-.94-2.06-.94 2.06-2.06.94zm-11 1L8.5 8.5l.94-2.06 2.06-.94-2.06-.94L8.5 2.5l-.94 2.06-2.06.94zm10 10l.94 2.06.94-2.06 2.06-.94-2.06-.94-.94-2.06-.94 2.06-2.06.94z\"/><path d=\"M17.41 7.96l-1.37-1.37c-.4-.4-.92-.59-1.43-.59-.52 0-1.04.2-1.43.59L10.3 9.45l-7.72 7.72c-.78.78-.78 2.05 0 2.83L4 21.41c.39.39.9.59 1.41.59.51 0 1.02-.2 1.41-.59l7.78-7.78 2.81-2.81c.8-.78.8-2.07 0-2.86zM5.41 20L4 18.59l7.72-7.72 1.47 1.35L5.41 20z\"/>\n",
              "  </svg>\n",
              "      </button>\n",
              "      \n",
              "  <style>\n",
              "    .colab-df-container {\n",
              "      display:flex;\n",
              "      flex-wrap:wrap;\n",
              "      gap: 12px;\n",
              "    }\n",
              "\n",
              "    .colab-df-convert {\n",
              "      background-color: #E8F0FE;\n",
              "      border: none;\n",
              "      border-radius: 50%;\n",
              "      cursor: pointer;\n",
              "      display: none;\n",
              "      fill: #1967D2;\n",
              "      height: 32px;\n",
              "      padding: 0 0 0 0;\n",
              "      width: 32px;\n",
              "    }\n",
              "\n",
              "    .colab-df-convert:hover {\n",
              "      background-color: #E2EBFA;\n",
              "      box-shadow: 0px 1px 2px rgba(60, 64, 67, 0.3), 0px 1px 3px 1px rgba(60, 64, 67, 0.15);\n",
              "      fill: #174EA6;\n",
              "    }\n",
              "\n",
              "    [theme=dark] .colab-df-convert {\n",
              "      background-color: #3B4455;\n",
              "      fill: #D2E3FC;\n",
              "    }\n",
              "\n",
              "    [theme=dark] .colab-df-convert:hover {\n",
              "      background-color: #434B5C;\n",
              "      box-shadow: 0px 1px 3px 1px rgba(0, 0, 0, 0.15);\n",
              "      filter: drop-shadow(0px 1px 2px rgba(0, 0, 0, 0.3));\n",
              "      fill: #FFFFFF;\n",
              "    }\n",
              "  </style>\n",
              "\n",
              "      <script>\n",
              "        const buttonEl =\n",
              "          document.querySelector('#df-15407572-f5d6-45c1-90ea-3c7d78855eaf button.colab-df-convert');\n",
              "        buttonEl.style.display =\n",
              "          google.colab.kernel.accessAllowed ? 'block' : 'none';\n",
              "\n",
              "        async function convertToInteractive(key) {\n",
              "          const element = document.querySelector('#df-15407572-f5d6-45c1-90ea-3c7d78855eaf');\n",
              "          const dataTable =\n",
              "            await google.colab.kernel.invokeFunction('convertToInteractive',\n",
              "                                                     [key], {});\n",
              "          if (!dataTable) return;\n",
              "\n",
              "          const docLinkHtml = 'Like what you see? Visit the ' +\n",
              "            '<a target=\"_blank\" href=https://colab.research.google.com/notebooks/data_table.ipynb>data table notebook</a>'\n",
              "            + ' to learn more about interactive tables.';\n",
              "          element.innerHTML = '';\n",
              "          dataTable['output_type'] = 'display_data';\n",
              "          await google.colab.output.renderOutput(dataTable, element);\n",
              "          const docLink = document.createElement('div');\n",
              "          docLink.innerHTML = docLinkHtml;\n",
              "          element.appendChild(docLink);\n",
              "        }\n",
              "      </script>\n",
              "    </div>\n",
              "  </div>\n",
              "  "
            ],
            "text/plain": [
              "        product_id                                   embedding_vector  \\\n",
              "3948      10500709  [0.7503771, -0.18183377, 0.16479845, -0.100275...   \n",
              "3994      10500914  [0.45275557, 0.2702926, -0.07311262, -0.314343...   \n",
              "4146      10501504  [0.5677568, 0.52260596, 0.034401912, -0.361972...   \n",
              "4285      10501901  [0.64030284, 0.2345686, -0.061874636, -0.25763...   \n",
              "4321      10502004  [0.87546676, -0.17221348, -0.03916068, -0.1922...   \n",
              "15542     44100021  [0.8373087, 0.0653706, -0.26724932, -0.17449, ...   \n",
              "131691   100021262  [0.9261285, -0.060547136, -0.27329034, -0.1380...   \n",
              "143311   100036427  [0.76979965, 0.5984715, -0.10999734, -0.332528...   \n",
              "143313   100036434  [0.81136036, 0.38808438, -0.23255286, -0.30186...   \n",
              "143314   100036436  [0.7408471, 0.3930096, -0.18140738, -0.3619474...   \n",
              "\n",
              "       category_code  \n",
              "3948       kids.toys  \n",
              "3994       kids.toys  \n",
              "4146       kids.toys  \n",
              "4285       kids.toys  \n",
              "4321       kids.toys  \n",
              "15542           None  \n",
              "131691          None  \n",
              "143311     kids.toys  \n",
              "143313     kids.toys  \n",
              "143314     kids.toys  "
            ]
          },
          "execution_count": 10,
          "metadata": {},
          "output_type": "execute_result"
        }
      ],
      "source": [
        "# Retrieving similar products for product query - 4321\n",
        "\n",
        "df_node2vec[df_node2vec.index.isin(I[4321])]"
      ]
    },
    {
      "cell_type": "code",
      "execution_count": 11,
      "id": "O3PxWa4V_pv7",
      "metadata": {
        "colab": {
          "base_uri": "https://localhost:8080/",
          "height": 363
        },
        "id": "O3PxWa4V_pv7",
        "outputId": "ea6673e6-07e9-4ddf-d76f-62ca01dc0c95"
      },
      "outputs": [
        {
          "data": {
            "text/html": [
              "\n",
              "  <div id=\"df-2ea005ed-d47d-4d83-b21f-df1d97ee4d6d\">\n",
              "    <div class=\"colab-df-container\">\n",
              "      <div>\n",
              "<style scoped>\n",
              "    .dataframe tbody tr th:only-of-type {\n",
              "        vertical-align: middle;\n",
              "    }\n",
              "\n",
              "    .dataframe tbody tr th {\n",
              "        vertical-align: top;\n",
              "    }\n",
              "\n",
              "    .dataframe thead th {\n",
              "        text-align: right;\n",
              "    }\n",
              "</style>\n",
              "<table border=\"1\" class=\"dataframe\">\n",
              "  <thead>\n",
              "    <tr style=\"text-align: right;\">\n",
              "      <th></th>\n",
              "      <th>product_id</th>\n",
              "      <th>embedding_vector</th>\n",
              "      <th>category_code</th>\n",
              "    </tr>\n",
              "  </thead>\n",
              "  <tbody>\n",
              "    <tr>\n",
              "      <th>10</th>\n",
              "      <td>17301515</td>\n",
              "      <td>[-0.10090834, 0.20500384, -0.35713068, 0.09066...</td>\n",
              "      <td>apparel.shoes.sandals</td>\n",
              "    </tr>\n",
              "    <tr>\n",
              "      <th>11</th>\n",
              "      <td>17301516</td>\n",
              "      <td>[-0.08727922, 0.294588, -0.22248454, 0.0759693...</td>\n",
              "      <td>apparel.shoes.sandals</td>\n",
              "    </tr>\n",
              "    <tr>\n",
              "      <th>1234</th>\n",
              "      <td>17303153</td>\n",
              "      <td>[0.13292949, 0.24028468, 0.258352, -0.19490324...</td>\n",
              "      <td>apparel.shoes.sandals</td>\n",
              "    </tr>\n",
              "    <tr>\n",
              "      <th>1239</th>\n",
              "      <td>17303160</td>\n",
              "      <td>[0.2926829, 0.20645146, 0.12906672, -0.1899009...</td>\n",
              "      <td>apparel.shoes.sandals</td>\n",
              "    </tr>\n",
              "    <tr>\n",
              "      <th>1245</th>\n",
              "      <td>17303176</td>\n",
              "      <td>[-0.17870961, 0.09260236, -0.15189257, 0.07243...</td>\n",
              "      <td>apparel.shoes.sandals</td>\n",
              "    </tr>\n",
              "    <tr>\n",
              "      <th>1258</th>\n",
              "      <td>17303190</td>\n",
              "      <td>[-0.030680787, -0.19200186, -0.3513529, 0.1216...</td>\n",
              "      <td>apparel.shoes.sandals</td>\n",
              "    </tr>\n",
              "    <tr>\n",
              "      <th>1259</th>\n",
              "      <td>17303191</td>\n",
              "      <td>[-0.002899726, 0.4434748, 0.04633778, -0.09894...</td>\n",
              "      <td>apparel.shoes.sandals</td>\n",
              "    </tr>\n",
              "    <tr>\n",
              "      <th>1269</th>\n",
              "      <td>17303201</td>\n",
              "      <td>[0.22060238, -0.03629059, -0.27219886, 0.25183...</td>\n",
              "      <td>apparel.shoes.sandals</td>\n",
              "    </tr>\n",
              "    <tr>\n",
              "      <th>211434</th>\n",
              "      <td>17301022</td>\n",
              "      <td>[0.051331908, 0.27771783, -0.24839675, 0.09112...</td>\n",
              "      <td>apparel.shoes.sandals</td>\n",
              "    </tr>\n",
              "    <tr>\n",
              "      <th>211843</th>\n",
              "      <td>17301484</td>\n",
              "      <td>[0.18427522, 0.36696106, -0.346714, 0.14238462...</td>\n",
              "      <td>apparel.shoes.sandals</td>\n",
              "    </tr>\n",
              "  </tbody>\n",
              "</table>\n",
              "</div>\n",
              "      <button class=\"colab-df-convert\" onclick=\"convertToInteractive('df-2ea005ed-d47d-4d83-b21f-df1d97ee4d6d')\"\n",
              "              title=\"Convert this dataframe to an interactive table.\"\n",
              "              style=\"display:none;\">\n",
              "        \n",
              "  <svg xmlns=\"http://www.w3.org/2000/svg\" height=\"24px\"viewBox=\"0 0 24 24\"\n",
              "       width=\"24px\">\n",
              "    <path d=\"M0 0h24v24H0V0z\" fill=\"none\"/>\n",
              "    <path d=\"M18.56 5.44l.94 2.06.94-2.06 2.06-.94-2.06-.94-.94-2.06-.94 2.06-2.06.94zm-11 1L8.5 8.5l.94-2.06 2.06-.94-2.06-.94L8.5 2.5l-.94 2.06-2.06.94zm10 10l.94 2.06.94-2.06 2.06-.94-2.06-.94-.94-2.06-.94 2.06-2.06.94z\"/><path d=\"M17.41 7.96l-1.37-1.37c-.4-.4-.92-.59-1.43-.59-.52 0-1.04.2-1.43.59L10.3 9.45l-7.72 7.72c-.78.78-.78 2.05 0 2.83L4 21.41c.39.39.9.59 1.41.59.51 0 1.02-.2 1.41-.59l7.78-7.78 2.81-2.81c.8-.78.8-2.07 0-2.86zM5.41 20L4 18.59l7.72-7.72 1.47 1.35L5.41 20z\"/>\n",
              "  </svg>\n",
              "      </button>\n",
              "      \n",
              "  <style>\n",
              "    .colab-df-container {\n",
              "      display:flex;\n",
              "      flex-wrap:wrap;\n",
              "      gap: 12px;\n",
              "    }\n",
              "\n",
              "    .colab-df-convert {\n",
              "      background-color: #E8F0FE;\n",
              "      border: none;\n",
              "      border-radius: 50%;\n",
              "      cursor: pointer;\n",
              "      display: none;\n",
              "      fill: #1967D2;\n",
              "      height: 32px;\n",
              "      padding: 0 0 0 0;\n",
              "      width: 32px;\n",
              "    }\n",
              "\n",
              "    .colab-df-convert:hover {\n",
              "      background-color: #E2EBFA;\n",
              "      box-shadow: 0px 1px 2px rgba(60, 64, 67, 0.3), 0px 1px 3px 1px rgba(60, 64, 67, 0.15);\n",
              "      fill: #174EA6;\n",
              "    }\n",
              "\n",
              "    [theme=dark] .colab-df-convert {\n",
              "      background-color: #3B4455;\n",
              "      fill: #D2E3FC;\n",
              "    }\n",
              "\n",
              "    [theme=dark] .colab-df-convert:hover {\n",
              "      background-color: #434B5C;\n",
              "      box-shadow: 0px 1px 3px 1px rgba(0, 0, 0, 0.15);\n",
              "      filter: drop-shadow(0px 1px 2px rgba(0, 0, 0, 0.3));\n",
              "      fill: #FFFFFF;\n",
              "    }\n",
              "  </style>\n",
              "\n",
              "      <script>\n",
              "        const buttonEl =\n",
              "          document.querySelector('#df-2ea005ed-d47d-4d83-b21f-df1d97ee4d6d button.colab-df-convert');\n",
              "        buttonEl.style.display =\n",
              "          google.colab.kernel.accessAllowed ? 'block' : 'none';\n",
              "\n",
              "        async function convertToInteractive(key) {\n",
              "          const element = document.querySelector('#df-2ea005ed-d47d-4d83-b21f-df1d97ee4d6d');\n",
              "          const dataTable =\n",
              "            await google.colab.kernel.invokeFunction('convertToInteractive',\n",
              "                                                     [key], {});\n",
              "          if (!dataTable) return;\n",
              "\n",
              "          const docLinkHtml = 'Like what you see? Visit the ' +\n",
              "            '<a target=\"_blank\" href=https://colab.research.google.com/notebooks/data_table.ipynb>data table notebook</a>'\n",
              "            + ' to learn more about interactive tables.';\n",
              "          element.innerHTML = '';\n",
              "          dataTable['output_type'] = 'display_data';\n",
              "          await google.colab.output.renderOutput(dataTable, element);\n",
              "          const docLink = document.createElement('div');\n",
              "          docLink.innerHTML = docLinkHtml;\n",
              "          element.appendChild(docLink);\n",
              "        }\n",
              "      </script>\n",
              "    </div>\n",
              "  </div>\n",
              "  "
            ],
            "text/plain": [
              "        product_id                                   embedding_vector  \\\n",
              "10        17301515  [-0.10090834, 0.20500384, -0.35713068, 0.09066...   \n",
              "11        17301516  [-0.08727922, 0.294588, -0.22248454, 0.0759693...   \n",
              "1234      17303153  [0.13292949, 0.24028468, 0.258352, -0.19490324...   \n",
              "1239      17303160  [0.2926829, 0.20645146, 0.12906672, -0.1899009...   \n",
              "1245      17303176  [-0.17870961, 0.09260236, -0.15189257, 0.07243...   \n",
              "1258      17303190  [-0.030680787, -0.19200186, -0.3513529, 0.1216...   \n",
              "1259      17303191  [-0.002899726, 0.4434748, 0.04633778, -0.09894...   \n",
              "1269      17303201  [0.22060238, -0.03629059, -0.27219886, 0.25183...   \n",
              "211434    17301022  [0.051331908, 0.27771783, -0.24839675, 0.09112...   \n",
              "211843    17301484  [0.18427522, 0.36696106, -0.346714, 0.14238462...   \n",
              "\n",
              "                category_code  \n",
              "10      apparel.shoes.sandals  \n",
              "11      apparel.shoes.sandals  \n",
              "1234    apparel.shoes.sandals  \n",
              "1239    apparel.shoes.sandals  \n",
              "1245    apparel.shoes.sandals  \n",
              "1258    apparel.shoes.sandals  \n",
              "1259    apparel.shoes.sandals  \n",
              "1269    apparel.shoes.sandals  \n",
              "211434  apparel.shoes.sandals  \n",
              "211843  apparel.shoes.sandals  "
            ]
          },
          "execution_count": 11,
          "metadata": {},
          "output_type": "execute_result"
        }
      ],
      "source": [
        "# Retrieving similar products for product query - 1234\n",
        "\n",
        "df_node2vec[df_node2vec.index.isin(I[1234])]"
      ]
    },
    {
      "cell_type": "markdown",
      "id": "465a6974",
      "metadata": {
        "id": "465a6974"
      },
      "source": [
        "### Product Recommendation \n",
        "\n",
        "Given a product id -> we have a list of other most relevant product ids. \n",
        "\n",
        "In above example: \n",
        "Query = `1234\t17303153\t[0.82914335, 0.83423114, -0.1470292, 0.2176020...]\tapparel.shoes.sandals`\n",
        "Product Id (Parent) = `17303153`"
      ]
    },
    {
      "cell_type": "markdown",
      "id": "8caff3ab",
      "metadata": {},
      "source": []
    }
  ],
  "metadata": {
    "accelerator": "GPU",
    "colab": {
      "machine_shape": "hm",
      "name": "5_Embedding_Vector_Search_with_ANN_FAISS_(Recommendation).ipynb",
      "provenance": []
    },
    "kernelspec": {
      "display_name": "Python 3",
      "language": "python",
      "name": "python3"
    },
    "language_info": {
      "codemirror_mode": {
        "name": "ipython",
        "version": 3
      },
      "file_extension": ".py",
      "mimetype": "text/x-python",
      "name": "python",
      "nbconvert_exporter": "python",
      "pygments_lexer": "ipython3",
      "version": "3.8.8"
    }
  },
  "nbformat": 4,
  "nbformat_minor": 5
}
